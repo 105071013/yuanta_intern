{
 "cells": [
  {
   "cell_type": "code",
   "execution_count": 1,
   "metadata": {
    "scrolled": true
   },
   "outputs": [
    {
     "name": "stderr",
     "output_type": "stream",
     "text": [
      "Using TensorFlow backend.\n",
      "C:\\Users\\user10\\Anaconda3\\envs\\PythonGPU\\lib\\site-packages\\tensorflow\\python\\framework\\dtypes.py:516: FutureWarning: Passing (type, 1) or '1type' as a synonym of type is deprecated; in a future version of numpy, it will be understood as (type, (1,)) / '(1,)type'.\n",
      "  _np_qint8 = np.dtype([(\"qint8\", np.int8, 1)])\n",
      "C:\\Users\\user10\\Anaconda3\\envs\\PythonGPU\\lib\\site-packages\\tensorflow\\python\\framework\\dtypes.py:517: FutureWarning: Passing (type, 1) or '1type' as a synonym of type is deprecated; in a future version of numpy, it will be understood as (type, (1,)) / '(1,)type'.\n",
      "  _np_quint8 = np.dtype([(\"quint8\", np.uint8, 1)])\n",
      "C:\\Users\\user10\\Anaconda3\\envs\\PythonGPU\\lib\\site-packages\\tensorflow\\python\\framework\\dtypes.py:518: FutureWarning: Passing (type, 1) or '1type' as a synonym of type is deprecated; in a future version of numpy, it will be understood as (type, (1,)) / '(1,)type'.\n",
      "  _np_qint16 = np.dtype([(\"qint16\", np.int16, 1)])\n",
      "C:\\Users\\user10\\Anaconda3\\envs\\PythonGPU\\lib\\site-packages\\tensorflow\\python\\framework\\dtypes.py:519: FutureWarning: Passing (type, 1) or '1type' as a synonym of type is deprecated; in a future version of numpy, it will be understood as (type, (1,)) / '(1,)type'.\n",
      "  _np_quint16 = np.dtype([(\"quint16\", np.uint16, 1)])\n",
      "C:\\Users\\user10\\Anaconda3\\envs\\PythonGPU\\lib\\site-packages\\tensorflow\\python\\framework\\dtypes.py:520: FutureWarning: Passing (type, 1) or '1type' as a synonym of type is deprecated; in a future version of numpy, it will be understood as (type, (1,)) / '(1,)type'.\n",
      "  _np_qint32 = np.dtype([(\"qint32\", np.int32, 1)])\n",
      "C:\\Users\\user10\\Anaconda3\\envs\\PythonGPU\\lib\\site-packages\\tensorflow\\python\\framework\\dtypes.py:525: FutureWarning: Passing (type, 1) or '1type' as a synonym of type is deprecated; in a future version of numpy, it will be understood as (type, (1,)) / '(1,)type'.\n",
      "  np_resource = np.dtype([(\"resource\", np.ubyte, 1)])\n",
      "C:\\Users\\user10\\Anaconda3\\envs\\PythonGPU\\lib\\site-packages\\tensorboard\\compat\\tensorflow_stub\\dtypes.py:541: FutureWarning: Passing (type, 1) or '1type' as a synonym of type is deprecated; in a future version of numpy, it will be understood as (type, (1,)) / '(1,)type'.\n",
      "  _np_qint8 = np.dtype([(\"qint8\", np.int8, 1)])\n",
      "C:\\Users\\user10\\Anaconda3\\envs\\PythonGPU\\lib\\site-packages\\tensorboard\\compat\\tensorflow_stub\\dtypes.py:542: FutureWarning: Passing (type, 1) or '1type' as a synonym of type is deprecated; in a future version of numpy, it will be understood as (type, (1,)) / '(1,)type'.\n",
      "  _np_quint8 = np.dtype([(\"quint8\", np.uint8, 1)])\n",
      "C:\\Users\\user10\\Anaconda3\\envs\\PythonGPU\\lib\\site-packages\\tensorboard\\compat\\tensorflow_stub\\dtypes.py:543: FutureWarning: Passing (type, 1) or '1type' as a synonym of type is deprecated; in a future version of numpy, it will be understood as (type, (1,)) / '(1,)type'.\n",
      "  _np_qint16 = np.dtype([(\"qint16\", np.int16, 1)])\n",
      "C:\\Users\\user10\\Anaconda3\\envs\\PythonGPU\\lib\\site-packages\\tensorboard\\compat\\tensorflow_stub\\dtypes.py:544: FutureWarning: Passing (type, 1) or '1type' as a synonym of type is deprecated; in a future version of numpy, it will be understood as (type, (1,)) / '(1,)type'.\n",
      "  _np_quint16 = np.dtype([(\"quint16\", np.uint16, 1)])\n",
      "C:\\Users\\user10\\Anaconda3\\envs\\PythonGPU\\lib\\site-packages\\tensorboard\\compat\\tensorflow_stub\\dtypes.py:545: FutureWarning: Passing (type, 1) or '1type' as a synonym of type is deprecated; in a future version of numpy, it will be understood as (type, (1,)) / '(1,)type'.\n",
      "  _np_qint32 = np.dtype([(\"qint32\", np.int32, 1)])\n",
      "C:\\Users\\user10\\Anaconda3\\envs\\PythonGPU\\lib\\site-packages\\tensorboard\\compat\\tensorflow_stub\\dtypes.py:550: FutureWarning: Passing (type, 1) or '1type' as a synonym of type is deprecated; in a future version of numpy, it will be understood as (type, (1,)) / '(1,)type'.\n",
      "  np_resource = np.dtype([(\"resource\", np.ubyte, 1)])\n"
     ]
    }
   ],
   "source": [
    "import pandas as pd\n",
    "import numpy as np\n",
    "from keras.models import Sequential,Model\n",
    "from keras.layers import Dense, Dropout, Activation, Flatten, LSTM, TimeDistributed, RepeatVector,Input\n",
    "from keras.optimizers import Adam\n",
    "from keras.callbacks import EarlyStopping, ModelCheckpoint\n",
    "import matplotlib.pyplot as plt\n",
    "from keras.utils import to_categorical\n",
    "%matplotlib inline"
   ]
  },
  {
   "cell_type": "code",
   "execution_count": 2,
   "metadata": {},
   "outputs": [
    {
     "name": "stderr",
     "output_type": "stream",
     "text": [
      "C:\\Users\\user10\\Anaconda3\\envs\\PythonGPU\\lib\\site-packages\\pandas\\core\\indexing.py:670: SettingWithCopyWarning: \n",
      "A value is trying to be set on a copy of a slice from a DataFrame\n",
      "\n",
      "See the caveats in the documentation: https://pandas.pydata.org/pandas-docs/stable/user_guide/indexing.html#returning-a-view-versus-a-copy\n",
      "  self._setitem_with_indexer(indexer, value)\n"
     ]
    }
   ],
   "source": [
    "df = pd.read_csv('./data/3406_2.csv')\n",
    "#data preprocessing\n",
    "df['spread1'] = df['Ask1'] - df['Bid1']\n",
    "df['spread2'] = df['Ask2'] - df['Bid2']\n",
    "df['spread3'] = df['Ask3'] - df['Bid3']\n",
    "df['spread4'] = df['Ask4'] - df['Bid4']\n",
    "df['spread5'] = df['Ask5'] - df['Bid5']\n",
    "df['mid2'] = (df['Ask2'] + df['Bid2']) / 2\n",
    "df['mid3'] = (df['Ask3'] + df['Bid3']) / 2\n",
    "df['mid4'] = (df['Ask4'] + df['Bid4']) / 2\n",
    "df['mid5'] = (df['Ask5'] + df['Bid5']) / 2\n",
    "df['a51_diff'] = df['Ask5'] - df['Ask1']\n",
    "df['b15_diff'] = df['Bid1'] - df['Bid5']\n",
    "df['a21_diff_abs'] = np.abs(df['Ask2'] - df['Ask1'])\n",
    "df['a32_diff_abs'] = np.abs(df['Ask3'] - df['Ask2'])\n",
    "df['a43_diff_abs'] = np.abs(df['Ask4'] - df['Ask3'])\n",
    "df['a54_diff_abs'] = np.abs(df['Ask5'] - df['Ask4'])\n",
    "df['b21_diff_abs'] = np.abs(df['Bid2'] - df['Bid1'])\n",
    "df['b32_diff_abs'] = np.abs(df['Bid3'] - df['Bid2'])\n",
    "df['b43_diff_abs'] = np.abs(df['Bid4'] - df['Bid3'])\n",
    "df['b54_diff_abs'] = np.abs(df['Bid5'] - df['Bid4'])\n",
    "df['a_mean'] = (df['Ask1'] +df['Ask2'] +df['Ask3'] +df['Ask4'] +df['Ask5']) / 5\n",
    "df['b_mean'] = (df['Bid1'] +df['Bid2'] +df['Bid3'] +df['Bid4'] +df['Bid5']) / 5\n",
    "df['aq_mean'] = (df['AskQty1'] +df['AskQty2'] +df['AskQty3'] +df['AskQty4'] +df['AskQty5']) / 5\n",
    "df['bq_mean'] = (df['BidQty1'] +df['BidQty2'] +df['BidQty3'] +df['BidQty4'] +df['BidQty5']) / 5\n",
    "df['p_acc_diff'] = (df['Ask1'] - df['Bid1']) +(df['Ask2'] - df['Bid2']) + (df['Ask3'] - df['Bid3']) + (df['Ask4'] - df['Bid4']) + (df['Ask5'] - df['Bid5'])\n",
    "df['q_acc_diff'] = (df['AskQty1'] - df['BidQty1']) +(df['AskQty2'] - df['BidQty2']) + (df['AskQty3'] - df['BidQty3']) + (df['AskQty4'] - df['BidQty4']) + (df['AskQty5'] - df['BidQty5'])\n",
    "#1 tick\n",
    "df['da1_dt_1'] = df['Ask1'] - df['Ask1'].shift(1)\n",
    "df['da2_dt_1'] = df['Ask2'] - df['Ask2'].shift(1)\n",
    "df['da3_dt_1'] = df['Ask3'] - df['Ask3'].shift(1)\n",
    "df['da4_dt_1'] = df['Ask4'] - df['Ask4'].shift(1)\n",
    "df['da5_dt_1'] = df['Ask5'] - df['Ask5'].shift(1)\n",
    "df['db1_dt_1'] = df['Bid1'] - df['Bid1'].shift(1)\n",
    "df['db2_dt_1'] = df['Bid2'] - df['Bid2'].shift(1)\n",
    "df['db3_dt_1'] = df['Bid3'] - df['Bid3'].shift(1)\n",
    "df['db4_dt_1'] = df['Bid4'] - df['Bid4'].shift(1)\n",
    "df['db5_dt_1'] = df['Bid5'] - df['Bid5'].shift(1)\n",
    "#5 ticks\n",
    "df['da1_dt_5'] = df['Ask1'] - df['Ask1'].shift(5)\n",
    "df['da2_dt_5'] = df['Ask2'] - df['Ask2'].shift(5)\n",
    "df['da3_dt_5'] = df['Ask3'] - df['Ask3'].shift(5)\n",
    "df['da4_dt_5'] = df['Ask4'] - df['Ask4'].shift(5)\n",
    "df['da5_dt_5'] = df['Ask5'] - df['Ask5'].shift(5)\n",
    "df['db1_dt_5'] = df['Bid1'] - df['Bid1'].shift(5)\n",
    "df['db2_dt_5'] = df['Bid2'] - df['Bid2'].shift(5)\n",
    "df['db3_dt_5'] = df['Bid3'] - df['Bid3'].shift(5)\n",
    "df['db4_dt_5'] = df['Bid4'] - df['Bid4'].shift(5)\n",
    "df['db5_dt_5'] = df['Bid5'] - df['Bid5'].shift(5)\n",
    "##10 ticks\n",
    "df['da1_dt_10'] = df['Ask1'] - df['Ask1'].shift(10)\n",
    "df['da2_dt_10'] = df['Ask2'] - df['Ask2'].shift(10)\n",
    "df['da3_dt_10'] = df['Ask3'] - df['Ask3'].shift(10)\n",
    "df['da4_dt_10'] = df['Ask4'] - df['Ask4'].shift(10)\n",
    "df['da5_dt_10'] = df['Ask5'] - df['Ask5'].shift(10)\n",
    "df['db1_dt_10'] = df['Bid1'] - df['Bid1'].shift(10)\n",
    "df['db2_dt_10'] = df['Bid2'] - df['Bid2'].shift(10)\n",
    "df['db3_dt_10'] = df['Bid3'] - df['Bid3'].shift(10)\n",
    "df['db4_dt_10'] = df['Bid4'] - df['Bid4'].shift(10)\n",
    "df['db5_dt_10'] = df['Bid5'] - df['Bid5'].shift(10)\n",
    "#1 tick\n",
    "df['daq1_dt_1'] = df['AskQty1'] - df['AskQty1'].shift(1)\n",
    "df['daq2_dt_1'] = df['AskQty2'] - df['AskQty2'].shift(1)\n",
    "df['daq3_dt_1'] = df['AskQty3'] - df['AskQty3'].shift(1)\n",
    "df['daq4_dt_1'] = df['AskQty4'] - df['AskQty4'].shift(1)\n",
    "df['daq5_dt_1'] = df['AskQty5'] - df['AskQty5'].shift(1)\n",
    "df['dbq1_dt_1'] = df['BidQty1'] - df['BidQty1'].shift(1)\n",
    "df['dbq2_dt_1'] = df['BidQty2'] - df['BidQty2'].shift(1)\n",
    "df['dbq3_dt_1'] = df['BidQty3'] - df['BidQty3'].shift(1)\n",
    "df['dbq4_dt_1'] = df['BidQty4'] - df['BidQty4'].shift(1)\n",
    "df['dbq5_dt_1'] = df['BidQty5'] - df['BidQty5'].shift(1)\n",
    "#5 ticks\n",
    "df['daq1_dt_5'] = df['AskQty1'] - df['AskQty1'].shift(5)\n",
    "df['daq2_dt_5'] = df['AskQty2'] - df['AskQty2'].shift(5)\n",
    "df['daq3_dt_5'] = df['AskQty3'] - df['AskQty3'].shift(5)\n",
    "df['daq4_dt_5'] = df['AskQty4'] - df['AskQty4'].shift(5)\n",
    "df['daq5_dt_5'] = df['AskQty5'] - df['AskQty5'].shift(5)\n",
    "df['dbq1_dt_5'] = df['BidQty1'] - df['BidQty1'].shift(5)\n",
    "df['dbq2_dt_5'] = df['BidQty2'] - df['BidQty2'].shift(5)\n",
    "df['dbq3_dt_5'] = df['BidQty3'] - df['BidQty3'].shift(5)\n",
    "df['dbq4_dt_5'] = df['BidQty4'] - df['BidQty4'].shift(5)\n",
    "df['dbq5_dt_5'] = df['BidQty5'] - df['BidQty5'].shift(5)\n",
    "#10 ticks\n",
    "df['daq1_dt_10'] = df['AskQty1'] - df['AskQty1'].shift(10)\n",
    "df['daq2_dt_10'] = df['AskQty2'] - df['AskQty2'].shift(10)\n",
    "df['daq3_dt_10'] = df['AskQty3'] - df['AskQty3'].shift(10)\n",
    "df['daq4_dt_10'] = df['AskQty4'] - df['AskQty4'].shift(10)\n",
    "df['daq5_dt_10'] = df['AskQty5'] - df['AskQty5'].shift(10)\n",
    "df['dbq1_dt_10'] = df['BidQty1'] - df['BidQty1'].shift(10)\n",
    "df['dbq2_dt_10'] = df['BidQty2'] - df['BidQty2'].shift(10)\n",
    "df['dbq3_dt_10'] = df['BidQty3'] - df['BidQty3'].shift(10)\n",
    "df['dbq4_dt_10'] = df['BidQty4'] - df['BidQty4'].shift(10)\n",
    "df['dbq5_dt_10'] = df['BidQty5'] - df['BidQty5'].shift(10)\n",
    "#response 放在最後一行\n",
    "df['mid1'] = (df['Ask1'] + df['Bid1']) / 2\n",
    "#drop nan\n",
    "df = df.dropna()\n",
    "df = df.reset_index(drop = True)\n",
    "#b43_diff_abs and b54_diff_abs are all same values -> drop\n",
    "#df = df.drop(['b43_diff_abs'], axis = 1)\n",
    "#df = df.drop(['b54_diff_abs'], axis = 1)\n",
    "from datetime import datetime\n",
    "df['TxTime'] = pd.to_datetime(df['TxTime'])\n",
    "df['TxTime'] = [str(x)[0:10] for x in df['TxTime']]\n",
    "#some index's ask1 = 0, we change that mid1 to bid1\n",
    "idx = df[df['Ask1'] == 0].index\n",
    "for i in idx:\n",
    "    df['mid1'].iloc[i] = df['Bid1'].iloc[i]\n",
    "#3/23 3/24 data有缺值 -> drop\n",
    "df = df[df['TxTime'] != '2020-03-23']\n",
    "df = df[df['TxTime'] != '2020-03-24']\n",
    "df = df.reset_index(drop = True)\n",
    "#drop TxTime\n",
    "df2 = df.drop(['TxTime'], axis = 1)"
   ]
  },
  {
   "cell_type": "code",
   "execution_count": 3,
   "metadata": {},
   "outputs": [],
   "source": [
    "#normalize\n",
    "def normalize(df):\n",
    "    norm = df.apply(lambda x: (x - np.min(x)) / (np.max(x) - np.min(x)))\n",
    "    return norm\n",
    "#scale back to the true range\n",
    "def true_range(df, x):\n",
    "    X = (x * (df['mid1'].max() - df['mid1'].min())) + df['mid1'].min()\n",
    "    return X\n",
    "#rolling windows\n",
    "def train_windows(df, ref_day=10, predict_day=5):\n",
    "    X_train, Y_train = [], []\n",
    "    for i in range(int(df.shape[0] / 5 - 2)):\n",
    "        #扣掉response\n",
    "        #記得最後一行要放response\n",
    "        #if i == df.shape[0]-predict_day-ref_day -1:\n",
    "        #    X_train.append(np.array(df.iloc[i:i+ref_day,:-1]))\n",
    "        #    Y_train.append(np.array(df.iloc[i+ref_day:][\"mid1\"]))\n",
    "        #else:  \n",
    "        X_train.append(np.array(df.iloc[i * predict_day: predict_day * (i + 2),:-1]))\n",
    "        Y_train.append(np.array(df.iloc[(i+2) * predict_day: (i+3) * predict_day][\"mid1\"]))\n",
    "    return np.array(X_train), np.array(Y_train)\n",
    "#LSTM (when add the drop out layer in order to deal with overfitting)\n",
    "def lstm_stock_model(shape):\n",
    "    model = Sequential()\n",
    "    #return sequence = True -> means the network will have long memory\n",
    "    model.add(LSTM(256, input_shape=(shape[1], shape[2]), return_sequences=True))\n",
    "    model.add(Dropout(0.5))\n",
    "    model.add(LSTM(256, return_sequences=True))\n",
    "    model.add(TimeDistributed(Dense(1)))\n",
    "    model.add(Flatten())\n",
    "    #10 -> X shape\n",
    "    model.add(Dense(10,activation='linear'))\n",
    "    #5 -> Y shape\n",
    "    model.add(Dense(5,activation='linear'))\n",
    "    model.compile(loss=\"mean_squared_error\", optimizer=\"adam\",metrics=['mean_squared_error'])\n",
    "    model.summary()\n",
    "    return model\n",
    "\n",
    "#record transaction\n",
    "def record_transaction(para, date, tick, action_side, price, equity_value, transaction_history):\n",
    "    info = {\n",
    "                'Date': date,\n",
    "                'tick': tick,\n",
    "                'Action': action_side,\n",
    "                'Price': price,\n",
    "                'Equity_value': equity_value\n",
    "            }\n",
    "    if para in transaction_history:\n",
    "        transaction_history[para].append(info)\n",
    "    else:\n",
    "        transaction_history.update({para: [info]})    \n",
    "    \n",
    "    return transaction_history\n",
    "\n",
    "#performance\n",
    "def performance(equity_value_, transaction):\n",
    "    #return\n",
    "    Return = equity_value_.iloc[-1][0]\n",
    "    print('return:', Return)\n",
    "    #vol\n",
    "    Std = equity_value_.std()[0]\n",
    "    print('std:', Std)\n",
    "    #sharp ratio\n",
    "    Sharp_ratio = (Return - 0.0052) / Std\n",
    "    print('sharp ratio:', Sharp_ratio)\n",
    "    #nums of trading\n",
    "    Trades = len(transaction) / 2\n",
    "    print('trades:', Trades)\n",
    "    #odds ratio\n",
    "    R = 0\n",
    "    for i in range(len(transaction)):\n",
    "        if transaction[i]['Equity_value'] > 0:\n",
    "            R += 1\n",
    "    Odd = R / (len(transaction) / 2)\n",
    "    print('odds ratio:', Odd)\n",
    "    #mdd\n",
    "    Mdd = (equity_value_.cummax() - equity_value_).max()[0]\n",
    "    print('mdd:', Mdd)\n",
    "    #skew\n",
    "    Skew = equity_value_.skew()[0]\n",
    "    print('skewness:', Skew)\n",
    "     \n",
    "    return Return, Std, Sharp_ratio, Trades, Odd, Mdd, Skew\n",
    "\n",
    "#model performance\n",
    "def model_performance(y, f):\n",
    "    tot = np.sum(np.square(y - np.mean(y)))\n",
    "    res = np.sum(np.square(y - f))\n",
    "    r_squared = 1 - res / tot\n",
    "    mse = np.mean(np.square(y - f)) * (1 / len(y))\n",
    "    print('MSE:', mse)\n",
    "    print('r-squared:', r_squared)\n",
    "    \n",
    "    return mse, r_squared"
   ]
  },
  {
   "cell_type": "markdown",
   "metadata": {},
   "source": [
    "# feature importance"
   ]
  },
  {
   "cell_type": "code",
   "execution_count": 4,
   "metadata": {},
   "outputs": [
    {
     "data": {
      "text/plain": [
       "Index(['DealPrice', 'DealQty', 'BidQty1', 'Bid1', 'Ask1', 'AskQty1', 'BidQty2',\n",
       "       'Bid2', 'Ask2', 'AskQty2',\n",
       "       ...\n",
       "       'daq1_dt_10', 'daq2_dt_10', 'daq3_dt_10', 'daq4_dt_10', 'daq5_dt_10',\n",
       "       'dbq1_dt_10', 'dbq2_dt_10', 'dbq3_dt_10', 'dbq4_dt_10', 'dbq5_dt_10'],\n",
       "      dtype='object', length=107)"
      ]
     },
     "execution_count": 4,
     "metadata": {},
     "output_type": "execute_result"
    }
   ],
   "source": [
    "##get the feature importance\n",
    "feature = df2.iloc[:, :-1].columns\n",
    "feature"
   ]
  },
  {
   "cell_type": "code",
   "execution_count": 5,
   "metadata": {
    "scrolled": true
   },
   "outputs": [
    {
     "name": "stdout",
     "output_type": "stream",
     "text": [
      "Model: \"sequential_1\"\n",
      "_________________________________________________________________\n",
      "Layer (type)                 Output Shape              Param #   \n",
      "=================================================================\n",
      "lstm_1 (LSTM)                (None, 10, 256)           371712    \n",
      "_________________________________________________________________\n",
      "dropout_1 (Dropout)          (None, 10, 256)           0         \n",
      "_________________________________________________________________\n",
      "lstm_2 (LSTM)                (None, 10, 256)           525312    \n",
      "_________________________________________________________________\n",
      "time_distributed_1 (TimeDist (None, 10, 1)             257       \n",
      "_________________________________________________________________\n",
      "flatten_1 (Flatten)          (None, 10)                0         \n",
      "_________________________________________________________________\n",
      "dense_2 (Dense)              (None, 10)                110       \n",
      "_________________________________________________________________\n",
      "dense_3 (Dense)              (None, 5)                 55        \n",
      "=================================================================\n",
      "Total params: 897,446\n",
      "Trainable params: 897,446\n",
      "Non-trainable params: 0\n",
      "_________________________________________________________________\n",
      "WARNING:tensorflow:From C:\\Users\\user10\\Anaconda3\\envs\\PythonGPU\\lib\\site-packages\\keras\\backend\\tensorflow_backend.py:422: The name tf.global_variables is deprecated. Please use tf.compat.v1.global_variables instead.\n",
      "\n",
      "Train on 52082 samples, validate on 22321 samples\n",
      "Epoch 1/500\n",
      "52082/52082 [==============================] - 10s 195us/step - loss: 0.0069 - mean_squared_error: 0.0069 - val_loss: 1.4253e-04 - val_mean_squared_error: 1.4253e-04\n",
      "Epoch 2/500\n",
      "52082/52082 [==============================] - 9s 168us/step - loss: 2.4058e-04 - mean_squared_error: 2.4058e-04 - val_loss: 6.9566e-05 - val_mean_squared_error: 6.9566e-05\n",
      "Epoch 3/500\n",
      "51200/52082 [============================>.] - ETA: 0s - loss: 1.6244e-04 - mean_squared_error: 1.6244e-04"
     ]
    },
    {
     "name": "stderr",
     "output_type": "stream",
     "text": [
      "ERROR:root:Internal Python error in the inspect module.\n",
      "Below is the traceback from this internal error.\n",
      "\n"
     ]
    },
    {
     "name": "stdout",
     "output_type": "stream",
     "text": [
      "Traceback (most recent call last):\n",
      "  File \"C:\\Users\\user10\\Anaconda3\\envs\\PythonGPU\\lib\\site-packages\\IPython\\core\\interactiveshell.py\", line 3331, in run_code\n",
      "    exec(code_obj, self.user_global_ns, self.user_ns)\n",
      "  File \"<ipython-input-5-0f51b51b1f70>\", line 16, in <module>\n",
      "    history = model.fit(X_train, Y_train, epochs=500, batch_size=256, validation_split=0.3, callbacks=[callback], shuffle=True)\n",
      "  File \"C:\\Users\\user10\\Anaconda3\\envs\\PythonGPU\\lib\\site-packages\\keras\\engine\\training.py\", line 1239, in fit\n",
      "    validation_freq=validation_freq)\n",
      "  File \"C:\\Users\\user10\\Anaconda3\\envs\\PythonGPU\\lib\\site-packages\\keras\\engine\\training_arrays.py\", line 196, in fit_loop\n",
      "    outs = fit_function(ins_batch)\n",
      "  File \"C:\\Users\\user10\\Anaconda3\\envs\\PythonGPU\\lib\\site-packages\\tensorflow\\python\\keras\\backend.py\", line 3292, in __call__\n",
      "    run_metadata=self.run_metadata)\n",
      "  File \"C:\\Users\\user10\\Anaconda3\\envs\\PythonGPU\\lib\\site-packages\\tensorflow\\python\\client\\session.py\", line 1458, in __call__\n",
      "    run_metadata_ptr)\n",
      "KeyboardInterrupt\n",
      "\n",
      "During handling of the above exception, another exception occurred:\n",
      "\n",
      "Traceback (most recent call last):\n",
      "  File \"C:\\Users\\user10\\Anaconda3\\envs\\PythonGPU\\lib\\site-packages\\IPython\\core\\interactiveshell.py\", line 2044, in showtraceback\n",
      "    stb = value._render_traceback_()\n",
      "AttributeError: 'KeyboardInterrupt' object has no attribute '_render_traceback_'\n",
      "\n",
      "During handling of the above exception, another exception occurred:\n",
      "\n",
      "Traceback (most recent call last):\n",
      "  File \"C:\\Users\\user10\\Anaconda3\\envs\\PythonGPU\\lib\\site-packages\\IPython\\core\\ultratb.py\", line 1151, in get_records\n",
      "    return _fixed_getinnerframes(etb, number_of_lines_of_context, tb_offset)\n",
      "  File \"C:\\Users\\user10\\Anaconda3\\envs\\PythonGPU\\lib\\site-packages\\IPython\\core\\ultratb.py\", line 319, in wrapped\n",
      "    return f(*args, **kwargs)\n",
      "  File \"C:\\Users\\user10\\Anaconda3\\envs\\PythonGPU\\lib\\site-packages\\IPython\\core\\ultratb.py\", line 353, in _fixed_getinnerframes\n",
      "    records = fix_frame_records_filenames(inspect.getinnerframes(etb, context))\n",
      "  File \"C:\\Users\\user10\\Anaconda3\\envs\\PythonGPU\\lib\\inspect.py\", line 1502, in getinnerframes\n",
      "    frameinfo = (tb.tb_frame,) + getframeinfo(tb, context)\n",
      "  File \"C:\\Users\\user10\\Anaconda3\\envs\\PythonGPU\\lib\\inspect.py\", line 1460, in getframeinfo\n",
      "    filename = getsourcefile(frame) or getfile(frame)\n",
      "  File \"C:\\Users\\user10\\Anaconda3\\envs\\PythonGPU\\lib\\inspect.py\", line 696, in getsourcefile\n",
      "    if getattr(getmodule(object, filename), '__loader__', None) is not None:\n",
      "  File \"C:\\Users\\user10\\Anaconda3\\envs\\PythonGPU\\lib\\inspect.py\", line 739, in getmodule\n",
      "    f = getabsfile(module)\n",
      "  File \"C:\\Users\\user10\\Anaconda3\\envs\\PythonGPU\\lib\\inspect.py\", line 708, in getabsfile\n",
      "    _filename = getsourcefile(object) or getfile(object)\n",
      "  File \"C:\\Users\\user10\\Anaconda3\\envs\\PythonGPU\\lib\\inspect.py\", line 693, in getsourcefile\n",
      "    if os.path.exists(filename):\n",
      "  File \"C:\\Users\\user10\\Anaconda3\\envs\\PythonGPU\\lib\\genericpath.py\", line 19, in exists\n",
      "    os.stat(path)\n",
      "KeyboardInterrupt\n"
     ]
    },
    {
     "ename": "KeyboardInterrupt",
     "evalue": "",
     "output_type": "error",
     "traceback": [
      "\u001b[1;31m---------------------------------------------------------------------------\u001b[0m"
     ]
    }
   ],
   "source": [
    "ssr_ = []\n",
    "for i in feature:\n",
    "    #normalize\n",
    "    norm_df = normalize(df2)\n",
    "    #train test split\n",
    "    test = norm_df.iloc[372025: ]\n",
    "    test = test.reset_index(drop = True)\n",
    "    train = norm_df.iloc[0:372025]\n",
    "    train = train.drop([i], axis = 1)\n",
    "    test = test.drop([i], axis = 1)\n",
    "    #10 days forecast next day\n",
    "    X_train, Y_train = train_windows(train, 10, 5)\n",
    "    X_test, Y_test = train_windows(test, 10, 5)\n",
    "    model = lstm_stock_model(X_train.shape)\n",
    "    callback = EarlyStopping(monitor=\"val_mean_squared_error\", patience=5, verbose=1, mode=\"min\")\n",
    "    history = model.fit(X_train, Y_train, epochs=500, batch_size=256, validation_split=0.3, callbacks=[callback], shuffle=True)\n",
    "    Xt = model.predict(X_test)\n",
    "    Xt = true_range(df2, Xt)\n",
    "    Y_test = true_range(df2, Y_test)\n",
    "    ssr = np.sum((Y_test - Xt) ** (2))\n",
    "    ssr_.append(ssr)\n",
    "    print(i)\n",
    "    print(ssr_)"
   ]
  },
  {
   "cell_type": "code",
   "execution_count": 20,
   "metadata": {
    "scrolled": true
   },
   "outputs": [],
   "source": [
    "ssr_ = [236907.23710221145, 47543.215883959085, 45446.51369638834, 55818.68646724988, 39420.629915975966, 30426.020482664928, 46444.806660282426, 86306.22420453839, 274568.06437770557, 93235.9284493383, 25947.25850286521, 384888.3721801797, 119379.48611759953, 194125.16949748714, 80851.48743347079, 45108.72342638299, 35151.75978396833, 46118.5823039813, 45105.19605926797, 232664.2557664076, 21348.669311894104, 147571.22559872828, 110036.02200935222, 64769.81042192131, 49333.55423416197, 68338.67037188075, 68024.01255747955, 326456.7003587708, 106150.58099982142, 33921.46089598164, 796647.5788555229, 160794.0923070116, 95936.48051636666, 58871.572752234526, 290505.24967223033, 1266180.062265318, 267700.7806608509, 136611.99779351242, 42276.39670142252, 202901.8010120103, 61613.08582828753, 22055.67378503643, 127236.62586567551, 73890.02486941591, 127907.28106567264, 29154.737146728672, 31968.025491910055, 74485.38567901868, 366626.16129421815, 14800.648382104002, 274323.01002809126, 126615.87645383645, 268644.9870217182, 229757.26284998748, 42230.609995268285, 44042.62723919004, 81917.80579633825, 84765.37519534305, 192409.02106207795, 21770.807850540616, 176697.14411882125, 41472.985309413634, 110210.3730281461, 156068.1557556903, 29615.532724296674, 43320.52608929295, 84078.05968337692, 27189.26837036945, 33861.51917853486, 566575.5734385382, 28991.940514637157, 17768.37442720961, 151840.0675738128, 300770.4338818174, 68177.7692607753, 272352.8516822662, 441979.02828949783, 19586.298815757968, 145037.42217438668, 56092.50207301974, 45927.60575366113, 198398.7395293899, 101447.14243413229, 184836.19248339348, 62392.224786118604, 863442.474899808, 349982.1908100657, 23456.93055711314, 93846.71282612532, 31037.52265536692, 252687.01443755254, 182870.10025438573, 53319.20646511391, 43838.491679069586, 191240.19192541484, 130950.63662451413, 55718.10780776944, 104684.21865951829, 53811.49408155028, 49262.77294672374, 36397.233559437096, 69678.9010010194, 83583.98904057126, 32443.846699324436, 269677.37978566065, 20352.47318487428, 322450.9288236676]"
   ]
  },
  {
   "cell_type": "code",
   "execution_count": 6,
   "metadata": {},
   "outputs": [
    {
     "data": {
      "text/plain": [
       "<BarContainer object of 107 artists>"
      ]
     },
     "execution_count": 6,
     "metadata": {},
     "output_type": "execute_result"
    },
    {
     "data": {
      "image/png": "[encoded data removed]",
      "text/plain": [
       "<Figure size 432x288 with 1 Axes>"
      ]
     },
     "metadata": {
      "needs_background": "light"
     },
     "output_type": "display_data"
    }
   ],
   "source": [
    "fig = plt.figure()\n",
    "ax = fig.add_axes([0,0,1,1])\n",
    "ax.bar(feature, ssr_)"
   ]
  },
  {
   "cell_type": "code",
   "execution_count": 23,
   "metadata": {},
   "outputs": [],
   "source": [
    "sort_ssr = sorted(ssr_)"
   ]
  },
  {
   "cell_type": "code",
   "execution_count": 25,
   "metadata": {},
   "outputs": [],
   "source": [
    "top_10_features = sort_ssr[-10:]"
   ]
  },
  {
   "cell_type": "code",
   "execution_count": 26,
   "metadata": {},
   "outputs": [],
   "source": [
    "top_10_idx = []\n",
    "for i in range(len(top_10_features)):\n",
    "    for j in range(len(ssr_)):\n",
    "        if ssr_[j] == top_10_features[i]:\n",
    "            top_10_idx.append(j)"
   ]
  },
  {
   "cell_type": "code",
   "execution_count": 27,
   "metadata": {},
   "outputs": [
    {
     "data": {
      "text/plain": [
       "[106, 27, 86, 48, 11, 76, 69, 30, 85, 35]"
      ]
     },
     "execution_count": 27,
     "metadata": {},
     "output_type": "execute_result"
    }
   ],
   "source": [
    "top_10_idx"
   ]
  },
  {
   "cell_type": "code",
   "execution_count": 28,
   "metadata": {},
   "outputs": [],
   "source": [
    "from operator import itemgetter \n",
    "top_10_name = itemgetter(*top_10_idx)(feature)"
   ]
  },
  {
   "cell_type": "code",
   "execution_count": 29,
   "metadata": {},
   "outputs": [
    {
     "data": {
      "text/plain": [
       "('dbq5_dt_10',\n",
       " 'mid2',\n",
       " 'dbq5_dt_1',\n",
       " 'da2_dt_1',\n",
       " 'Bid3',\n",
       " 'db5_dt_10',\n",
       " 'da3_dt_10',\n",
       " 'mid5',\n",
       " 'dbq4_dt_1',\n",
       " 'a43_diff_abs')"
      ]
     },
     "execution_count": 29,
     "metadata": {},
     "output_type": "execute_result"
    }
   ],
   "source": [
    "top_10_name "
   ]
  },
  {
   "cell_type": "code",
   "execution_count": 38,
   "metadata": {},
   "outputs": [
    {
     "data": {
      "text/plain": [
       "([0, 1, 2, 3, 4, 5, 6, 7, 8, 9], <a list of 10 Text xticklabel objects>)"
      ]
     },
     "execution_count": 38,
     "metadata": {},
     "output_type": "execute_result"
    },
    {
     "data": {
      "image/png": "[encoded data removed]",
      "text/plain": [
       "<Figure size 1440x720 with 1 Axes>"
      ]
     },
     "metadata": {
      "needs_background": "light"
     },
     "output_type": "display_data"
    }
   ],
   "source": [
    "fig = plt.figure(figsize=(20,10))\n",
    "ax = fig.add_axes([0,0,1,1])\n",
    "ax.bar(top_10_name, top_10_features, width = 0.35)\n",
    "plt.xticks(fontsize=20)"
   ]
  },
  {
   "cell_type": "code",
   "execution_count": null,
   "metadata": {},
   "outputs": [],
   "source": []
  },
  {
   "cell_type": "code",
   "execution_count": null,
   "metadata": {},
   "outputs": [],
   "source": []
  },
  {
   "cell_type": "code",
   "execution_count": null,
   "metadata": {},
   "outputs": [],
   "source": []
  },
  {
   "cell_type": "code",
   "execution_count": null,
   "metadata": {},
   "outputs": [],
   "source": []
  },
  {
   "cell_type": "code",
   "execution_count": null,
   "metadata": {},
   "outputs": [],
   "source": []
  }
 ],
 "metadata": {
  "kernelspec": {
   "display_name": "Python 3",
   "language": "python",
   "name": "python3"
  },
  "language_info": {
   "codemirror_mode": {
    "name": "ipython",
    "version": 3
   },
   "file_extension": ".py",
   "mimetype": "text/x-python",
   "name": "python",
   "nbconvert_exporter": "python",
   "pygments_lexer": "ipython3",
   "version": "3.7.6"
  }
 },
 "nbformat": 4,
 "nbformat_minor": 4
}
