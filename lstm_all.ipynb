{
 "cells": [
  {
   "cell_type": "code",
   "execution_count": 1,
   "metadata": {
    "scrolled": true
   },
   "outputs": [
    {
     "name": "stderr",
     "output_type": "stream",
     "text": [
      "Using TensorFlow backend.\n",
      "C:\\Users\\user10\\Anaconda3\\envs\\PythonGPU\\lib\\site-packages\\tensorflow\\python\\framework\\dtypes.py:516: FutureWarning: Passing (type, 1) or '1type' as a synonym of type is deprecated; in a future version of numpy, it will be understood as (type, (1,)) / '(1,)type'.\n",
      "  _np_qint8 = np.dtype([(\"qint8\", np.int8, 1)])\n",
      "C:\\Users\\user10\\Anaconda3\\envs\\PythonGPU\\lib\\site-packages\\tensorflow\\python\\framework\\dtypes.py:517: FutureWarning: Passing (type, 1) or '1type' as a synonym of type is deprecated; in a future version of numpy, it will be understood as (type, (1,)) / '(1,)type'.\n",
      "  _np_quint8 = np.dtype([(\"quint8\", np.uint8, 1)])\n",
      "C:\\Users\\user10\\Anaconda3\\envs\\PythonGPU\\lib\\site-packages\\tensorflow\\python\\framework\\dtypes.py:518: FutureWarning: Passing (type, 1) or '1type' as a synonym of type is deprecated; in a future version of numpy, it will be understood as (type, (1,)) / '(1,)type'.\n",
      "  _np_qint16 = np.dtype([(\"qint16\", np.int16, 1)])\n",
      "C:\\Users\\user10\\Anaconda3\\envs\\PythonGPU\\lib\\site-packages\\tensorflow\\python\\framework\\dtypes.py:519: FutureWarning: Passing (type, 1) or '1type' as a synonym of type is deprecated; in a future version of numpy, it will be understood as (type, (1,)) / '(1,)type'.\n",
      "  _np_quint16 = np.dtype([(\"quint16\", np.uint16, 1)])\n",
      "C:\\Users\\user10\\Anaconda3\\envs\\PythonGPU\\lib\\site-packages\\tensorflow\\python\\framework\\dtypes.py:520: FutureWarning: Passing (type, 1) or '1type' as a synonym of type is deprecated; in a future version of numpy, it will be understood as (type, (1,)) / '(1,)type'.\n",
      "  _np_qint32 = np.dtype([(\"qint32\", np.int32, 1)])\n",
      "C:\\Users\\user10\\Anaconda3\\envs\\PythonGPU\\lib\\site-packages\\tensorflow\\python\\framework\\dtypes.py:525: FutureWarning: Passing (type, 1) or '1type' as a synonym of type is deprecated; in a future version of numpy, it will be understood as (type, (1,)) / '(1,)type'.\n",
      "  np_resource = np.dtype([(\"resource\", np.ubyte, 1)])\n",
      "C:\\Users\\user10\\Anaconda3\\envs\\PythonGPU\\lib\\site-packages\\tensorboard\\compat\\tensorflow_stub\\dtypes.py:541: FutureWarning: Passing (type, 1) or '1type' as a synonym of type is deprecated; in a future version of numpy, it will be understood as (type, (1,)) / '(1,)type'.\n",
      "  _np_qint8 = np.dtype([(\"qint8\", np.int8, 1)])\n",
      "C:\\Users\\user10\\Anaconda3\\envs\\PythonGPU\\lib\\site-packages\\tensorboard\\compat\\tensorflow_stub\\dtypes.py:542: FutureWarning: Passing (type, 1) or '1type' as a synonym of type is deprecated; in a future version of numpy, it will be understood as (type, (1,)) / '(1,)type'.\n",
      "  _np_quint8 = np.dtype([(\"quint8\", np.uint8, 1)])\n",
      "C:\\Users\\user10\\Anaconda3\\envs\\PythonGPU\\lib\\site-packages\\tensorboard\\compat\\tensorflow_stub\\dtypes.py:543: FutureWarning: Passing (type, 1) or '1type' as a synonym of type is deprecated; in a future version of numpy, it will be understood as (type, (1,)) / '(1,)type'.\n",
      "  _np_qint16 = np.dtype([(\"qint16\", np.int16, 1)])\n",
      "C:\\Users\\user10\\Anaconda3\\envs\\PythonGPU\\lib\\site-packages\\tensorboard\\compat\\tensorflow_stub\\dtypes.py:544: FutureWarning: Passing (type, 1) or '1type' as a synonym of type is deprecated; in a future version of numpy, it will be understood as (type, (1,)) / '(1,)type'.\n",
      "  _np_quint16 = np.dtype([(\"quint16\", np.uint16, 1)])\n",
      "C:\\Users\\user10\\Anaconda3\\envs\\PythonGPU\\lib\\site-packages\\tensorboard\\compat\\tensorflow_stub\\dtypes.py:545: FutureWarning: Passing (type, 1) or '1type' as a synonym of type is deprecated; in a future version of numpy, it will be understood as (type, (1,)) / '(1,)type'.\n",
      "  _np_qint32 = np.dtype([(\"qint32\", np.int32, 1)])\n",
      "C:\\Users\\user10\\Anaconda3\\envs\\PythonGPU\\lib\\site-packages\\tensorboard\\compat\\tensorflow_stub\\dtypes.py:550: FutureWarning: Passing (type, 1) or '1type' as a synonym of type is deprecated; in a future version of numpy, it will be understood as (type, (1,)) / '(1,)type'.\n",
      "  np_resource = np.dtype([(\"resource\", np.ubyte, 1)])\n"
     ]
    }
   ],
   "source": [
    "import pandas as pd\n",
    "import numpy as np\n",
    "from keras.models import Sequential,Model\n",
    "from keras.layers import Dense, Dropout, Activation, Flatten, LSTM, TimeDistributed, RepeatVector,Input\n",
    "from keras.optimizers import Adam\n",
    "from keras.callbacks import EarlyStopping, ModelCheckpoint\n",
    "import matplotlib.pyplot as plt\n",
    "from keras.utils import to_categorical\n",
    "%matplotlib inline"
   ]
  },
  {
   "cell_type": "code",
   "execution_count": 391,
   "metadata": {},
   "outputs": [],
   "source": [
    "#normalize\n",
    "def normalize(df):\n",
    "    norm = df.apply(lambda x: (x - np.min(x)) / (np.max(x) - np.min(x)))\n",
    "    return norm\n",
    "\n",
    "#scale back to the true range\n",
    "def true_range(df, x, response):\n",
    "    X = (x * (df[response].max() - df[response].min())) + df[response].min()\n",
    "    return X\n",
    "\n",
    "#rolling windows\n",
    "def train_windows(df, response, ref_day=5, predict_day=1):\n",
    "    X_train, Y_train = [], []\n",
    "    for i in range(df.shape[0]-predict_day-ref_day):\n",
    "        #扣掉response\n",
    "        #記得最後一行要放response\n",
    "        X_train.append(np.array(df.iloc[i:i+ref_day,:-1]))\n",
    "        Y_train.append(np.array(df.iloc[i+ref_day:i+ref_day+predict_day][response]))\n",
    "    return np.array(X_train), np.array(Y_train)\n",
    "\n",
    "#LSTM (when add the drop out layer in order to deal with overfitting)\n",
    "def lstm_stock_model(shape):\n",
    "    model = Sequential()\n",
    "    #return sequence = True -> means the network will have long memory\n",
    "    model.add(LSTM(256, input_shape=(shape[1], shape[2]), return_sequences=True))\n",
    "    model.add(LSTM(256, return_sequences=True))\n",
    "    model.add(Dropout(0.5))\n",
    "    model.add(TimeDistributed(Dense(1)))\n",
    "    model.add(Flatten())\n",
    "    model.add(Dense(5,activation='linear'))\n",
    "    model.add(Dense(1,activation='linear'))\n",
    "    model.compile(loss=\"mean_squared_error\", optimizer=\"adam\",metrics=['mean_squared_error'])\n",
    "    model.summary()\n",
    "    return model\n",
    "\n",
    "#record transaction\n",
    "def record_transaction(para, date, tick, action_side, price, equity_value, transaction_history):\n",
    "    info = {\n",
    "                'Date': date,\n",
    "                'tick': tick,\n",
    "                'Action': action_side,\n",
    "                'Price': price,\n",
    "                'Equity_value': equity_value\n",
    "            }\n",
    "    if para in transaction_history:\n",
    "        transaction_history[para].append(info)\n",
    "    else:\n",
    "        transaction_history.update({para: [info]})    \n",
    "    \n",
    "    return transaction_history\n",
    "\n",
    "#performance\n",
    "def performance(equity_value_, equity_value, num_transaction):\n",
    "    #return\n",
    "    Return = equity_value_['equity_value'].iloc[-1]\n",
    "    print('return:', Return)\n",
    "    #vol\n",
    "    Std = equity_value_['equity_value'].std()\n",
    "    print('std:', Std)\n",
    "    #sharp ratio\n",
    "    Sharp_ratio = (Return - 0.0052) / Std\n",
    "    print('sharp ratio:', Sharp_ratio)\n",
    "    #odds ratio\n",
    "    Odd = (R[R > 0].count() / len(num_transaction)).iloc[0]\n",
    "    print('odds ratio:', Odd)\n",
    "    #mdd\n",
    "    \n",
    "    #skew\n",
    "    Skew = equity_value['equity_value'].skew()\n",
    "    print('skewness:', Skew)\n",
    "    #turnover"
   ]
  },
  {
   "cell_type": "code",
   "execution_count": 340,
   "metadata": {},
   "outputs": [],
   "source": []
  },
  {
   "cell_type": "code",
   "execution_count": null,
   "metadata": {},
   "outputs": [],
   "source": []
  },
  {
   "cell_type": "code",
   "execution_count": null,
   "metadata": {},
   "outputs": [],
   "source": []
  },
  {
   "cell_type": "code",
   "execution_count": null,
   "metadata": {},
   "outputs": [],
   "source": []
  },
  {
   "cell_type": "markdown",
   "metadata": {},
   "source": [
    "# data preprocessing"
   ]
  },
  {
   "cell_type": "code",
   "execution_count": 421,
   "metadata": {},
   "outputs": [
    {
     "name": "stderr",
     "output_type": "stream",
     "text": [
      "C:\\Users\\user10\\Anaconda3\\envs\\PythonGPU\\lib\\site-packages\\pandas\\core\\indexing.py:670: SettingWithCopyWarning: \n",
      "A value is trying to be set on a copy of a slice from a DataFrame\n",
      "\n",
      "See the caveats in the documentation: https://pandas.pydata.org/pandas-docs/stable/user_guide/indexing.html#returning-a-view-versus-a-copy\n",
      "  self._setitem_with_indexer(indexer, value)\n"
     ]
    }
   ],
   "source": [
    "df = pd.read_csv('./data/3227_2.csv')\n",
    "#data preprocessing\n",
    "df['spread1'] = df['Ask1'] - df['Bid1']\n",
    "df['spread2'] = df['Ask2'] - df['Bid2']\n",
    "df['spread3'] = df['Ask3'] - df['Bid3']\n",
    "df['spread4'] = df['Ask4'] - df['Bid4']\n",
    "df['spread5'] = df['Ask5'] - df['Bid5']\n",
    "df['mid2'] = (df['Ask2'] + df['Bid2']) / 2\n",
    "df['mid3'] = (df['Ask3'] + df['Bid3']) / 2\n",
    "df['mid4'] = (df['Ask4'] + df['Bid4']) / 2\n",
    "df['mid5'] = (df['Ask5'] + df['Bid5']) / 2\n",
    "df['a51_diff'] = df['Ask5'] - df['Ask1']\n",
    "df['b15_diff'] = df['Bid1'] - df['Bid5']\n",
    "df['a21_diff_abs'] = np.abs(df['Ask2'] - df['Ask1'])\n",
    "df['a32_diff_abs'] = np.abs(df['Ask2'] - df['Ask1'])\n",
    "df['a43_diff_abs'] = np.abs(df['Ask2'] - df['Ask1'])\n",
    "df['a54_diff_abs'] = np.abs(df['Ask2'] - df['Ask1'])\n",
    "df['b21_diff_abs'] = np.abs(df['Bid2'] - df['Bid1'])\n",
    "df['b32_diff_abs'] = np.abs(df['Bid3'] - df['Bid2'])\n",
    "df['b43_diff_abs'] = np.abs(df['Bid4'] - df['Bid3'])\n",
    "df['b54_diff_abs'] = np.abs(df['Bid5'] - df['Bid4'])\n",
    "df['a_mean'] = (df['Ask1'] +df['Ask2'] +df['Ask3'] +df['Ask4'] +df['Ask5']) / 5\n",
    "df['b_mean'] = (df['Bid1'] +df['Bid2'] +df['Bid3'] +df['Bid4'] +df['Bid5']) / 5\n",
    "df['aq_mean'] = (df['AskQty1'] +df['AskQty2'] +df['AskQty3'] +df['AskQty4'] +df['AskQty5']) / 5\n",
    "df['bq_mean'] = (df['BidQty1'] +df['BidQty2'] +df['BidQty3'] +df['BidQty4'] +df['BidQty5']) / 5\n",
    "df['p_acc_diff'] = (df['Ask1'] - df['Bid1']) + (df['Ask1'] - df['Bid1']) +(df['Ask2'] - df['Bid2']) + (df['Ask3'] - df['Bid3']) + (df['Ask4'] - df['Bid4']) + (df['Ask5'] - df['Bid5'])\n",
    "df['q_acc_diff'] = (df['AskQty1'] - df['BidQty1']) + (df['AskQty1'] - df['BidQty1']) +(df['AskQty2'] - df['BidQty2']) + (df['AskQty3'] - df['BidQty3']) + (df['AskQty4'] - df['BidQty4']) + (df['AskQty5'] - df['BidQty5'])\n",
    "df['da1_dt'] = df['Ask1'] - df['Ask1'].shift(1)\n",
    "df['da2_dt'] = df['Ask2'] - df['Ask2'].shift(1)\n",
    "df['da3_dt'] = df['Ask3'] - df['Ask3'].shift(1)\n",
    "df['da4_dt'] = df['Ask4'] - df['Ask4'].shift(1)\n",
    "df['da5_dt'] = df['Ask5'] - df['Ask5'].shift(1)\n",
    "df['db1_dt'] = df['Bid1'] - df['Bid1'].shift(1)\n",
    "df['db2_dt'] = df['Bid2'] - df['Bid2'].shift(1)\n",
    "df['db3_dt'] = df['Bid3'] - df['Bid3'].shift(1)\n",
    "df['db4_dt'] = df['Bid4'] - df['Bid4'].shift(1)\n",
    "df['db5_dt'] = df['Bid5'] - df['Bid5'].shift(1)\n",
    "df['daq1_dt'] = df['AskQty1'] - df['AskQty1'].shift(1)\n",
    "df['daq2_dt'] = df['AskQty2'] - df['AskQty2'].shift(1)\n",
    "df['daq3_dt'] = df['AskQty3'] - df['AskQty3'].shift(1)\n",
    "df['daq4_dt'] = df['AskQty4'] - df['AskQty4'].shift(1)\n",
    "df['daq5_dt'] = df['AskQty5'] - df['AskQty5'].shift(1)\n",
    "df['dbq1_dt'] = df['BidQty1'] - df['BidQty1'].shift(1)\n",
    "df['dbq2_dt'] = df['BidQty2'] - df['BidQty2'].shift(1)\n",
    "df['dbq3_dt'] = df['BidQty3'] - df['BidQty3'].shift(1)\n",
    "df['dbq4_dt'] = df['BidQty4'] - df['BidQty4'].shift(1)\n",
    "df['dbq5_dt'] = df['BidQty5'] - df['BidQty5'].shift(1)\n",
    "#response 放在最後一行\n",
    "df['mid1'] = (df['Ask1'] + df['Bid1']) / 2\n",
    "df = df.drop([0])\n",
    "df = df.reset_index(drop = True)\n",
    "#b43_diff_abs and b54_diff_abs are all same values -> drop\n",
    "df = df.drop(['b43_diff_abs'], axis = 1)\n",
    "df = df.drop(['b54_diff_abs'], axis = 1)\n",
    "from datetime import datetime\n",
    "df['TxTime'] = pd.to_datetime(df['TxTime'])\n",
    "df['TxTime'] = [str(x)[0:10] for x in df['TxTime']]\n",
    "#some index's ask1 = 0, we change that mid1 to bid1\n",
    "idx = df[df['Ask1'] == 0].index\n",
    "for i in idx:\n",
    "    df['mid1'].iloc[i] = df['Bid1'].iloc[i]"
   ]
  },
  {
   "cell_type": "code",
   "execution_count": 422,
   "metadata": {},
   "outputs": [],
   "source": [
    "#no 4/13 data, drop 4/14 instead\n",
    "df = df[df['TxTime'] != '2020-04-14']\n",
    "#drop TxTime\n",
    "df2 = df.drop(['TxTime'], axis = 1)\n",
    "#find index\n",
    "idx = df['TxTime'].unique()"
   ]
  },
  {
   "cell_type": "code",
   "execution_count": 186,
   "metadata": {},
   "outputs": [],
   "source": [
    "#adjust the parameters in lstm\n",
    "batch_size = [128, 256, 512]\n",
    "validation_split = [0.1, 0.2, 0.3]\n",
    "#normalize\n",
    "norm_df = normalize(df2)\n",
    "#train test split (10days / 4days)\n",
    "test = norm_df.iloc[187412: ]\n",
    "test = test.reset_index(drop = True)\n",
    "train = norm_df.iloc[0:187412]\n",
    "#10 days forecast next day\n",
    "X_train, Y_train = train_windows(train, 'mid1', 10, 1)\n",
    "X_test, Y_test = train_windows(test, 'mid1', 10, 1)"
   ]
  },
  {
   "cell_type": "code",
   "execution_count": 7,
   "metadata": {
    "scrolled": true
   },
   "outputs": [
    {
     "name": "stdout",
     "output_type": "stream",
     "text": [
      "Model: \"sequential_1\"\n",
      "_________________________________________________________________\n",
      "Layer (type)                 Output Shape              Param #   \n",
      "=================================================================\n",
      "lstm_1 (LSTM)                (None, 10, 256)           329728    \n",
      "_________________________________________________________________\n",
      "lstm_2 (LSTM)                (None, 10, 256)           525312    \n",
      "_________________________________________________________________\n",
      "dropout_1 (Dropout)          (None, 10, 256)           0         \n",
      "_________________________________________________________________\n",
      "time_distributed_1 (TimeDist (None, 10, 1)             257       \n",
      "_________________________________________________________________\n",
      "flatten_1 (Flatten)          (None, 10)                0         \n",
      "_________________________________________________________________\n",
      "dense_2 (Dense)              (None, 5)                 55        \n",
      "_________________________________________________________________\n",
      "dense_3 (Dense)              (None, 1)                 6         \n",
      "=================================================================\n",
      "Total params: 855,358\n",
      "Trainable params: 855,358\n",
      "Non-trainable params: 0\n",
      "_________________________________________________________________\n",
      "WARNING:tensorflow:From C:\\Users\\user10\\Anaconda3\\envs\\PythonGPU\\lib\\site-packages\\keras\\backend\\tensorflow_backend.py:422: The name tf.global_variables is deprecated. Please use tf.compat.v1.global_variables instead.\n",
      "\n",
      "Train on 131180 samples, validate on 56221 samples\n",
      "Epoch 1/500\n",
      "131180/131180 [==============================] - 29s 219us/step - loss: 0.0022 - mean_squared_error: 0.0022 - val_loss: 2.6556e-04 - val_mean_squared_error: 2.6556e-04\n",
      "Epoch 2/500\n",
      "131180/131180 [==============================] - 28s 211us/step - loss: 2.2355e-04 - mean_squared_error: 2.2355e-04 - val_loss: 5.2252e-04 - val_mean_squared_error: 5.2252e-04\n",
      "Epoch 3/500\n",
      "131180/131180 [==============================] - 27s 209us/step - loss: 1.4134e-04 - mean_squared_error: 1.4134e-04 - val_loss: 0.0012 - val_mean_squared_error: 0.0012\n",
      "Epoch 4/500\n",
      "131180/131180 [==============================] - 27s 207us/step - loss: 8.9752e-05 - mean_squared_error: 8.9752e-05 - val_loss: 0.0018 - val_mean_squared_error: 0.0018\n",
      "Epoch 5/500\n",
      "131180/131180 [==============================] - 28s 211us/step - loss: 6.8683e-05 - mean_squared_error: 6.8683e-05 - val_loss: 0.0014 - val_mean_squared_error: 0.0014\n",
      "Epoch 6/500\n",
      "131180/131180 [==============================] - 28s 211us/step - loss: 5.6776e-05 - mean_squared_error: 5.6776e-05 - val_loss: 7.9505e-04 - val_mean_squared_error: 7.9505e-04\n",
      "Epoch 7/500\n",
      "131180/131180 [==============================] - 27s 208us/step - loss: 5.0061e-05 - mean_squared_error: 5.0061e-05 - val_loss: 8.8593e-04 - val_mean_squared_error: 8.8593e-04\n",
      "Epoch 8/500\n",
      "131180/131180 [==============================] - 28s 210us/step - loss: 4.6647e-05 - mean_squared_error: 4.6647e-05 - val_loss: 4.4183e-04 - val_mean_squared_error: 4.4183e-04\n",
      "Epoch 9/500\n",
      "131180/131180 [==============================] - 28s 212us/step - loss: 4.2266e-05 - mean_squared_error: 4.2266e-05 - val_loss: 4.0432e-04 - val_mean_squared_error: 4.0432e-04\n",
      "Epoch 10/500\n",
      "131180/131180 [==============================] - 28s 213us/step - loss: 4.1212e-05 - mean_squared_error: 4.1212e-05 - val_loss: 5.4336e-04 - val_mean_squared_error: 5.4336e-04\n",
      "Epoch 11/500\n",
      "131180/131180 [==============================] - 28s 211us/step - loss: 4.0699e-05 - mean_squared_error: 4.0699e-05 - val_loss: 5.2095e-04 - val_mean_squared_error: 5.2095e-04\n",
      "Epoch 00011: early stopping\n"
     ]
    }
   ],
   "source": [
    "#adding drop out layer(pct = 0.5)\n",
    "#batch size = 256\n",
    "#validation split = 0.3 (not letting val loss < loss)\n",
    "#early stop -> val loss patience = 10\n",
    "model_1 = lstm_stock_model(X_train.shape)\n",
    "callback = EarlyStopping(monitor=\"val_mean_squared_error\", patience=10, verbose=1, mode=\"min\")\n",
    "history_1 = model_1.fit(X_train, Y_train, epochs=500, batch_size=batch_size[1], validation_split=validation_split[2], callbacks=[callback], shuffle=True)"
   ]
  },
  {
   "cell_type": "code",
   "execution_count": 8,
   "metadata": {},
   "outputs": [
    {
     "data": {
      "text/plain": [
       "[<matplotlib.lines.Line2D at 0x22457bb82c8>]"
      ]
     },
     "execution_count": 8,
     "metadata": {},
     "output_type": "execute_result"
    },
    {
     "data": {
      "image/png": "[encoded data removed]",
      "text/plain": [
       "<Figure size 432x288 with 1 Axes>"
      ]
     },
     "metadata": {
      "needs_background": "light"
     },
     "output_type": "display_data"
    }
   ],
   "source": [
    "plt.plot(history_1.history['loss'])\n",
    "plt.plot(history_1.history['val_loss'])"
   ]
  },
  {
   "cell_type": "code",
   "execution_count": 9,
   "metadata": {},
   "outputs": [
    {
     "data": {
      "text/plain": [
       "[<matplotlib.lines.Line2D at 0x224e0c8a088>]"
      ]
     },
     "execution_count": 9,
     "metadata": {},
     "output_type": "execute_result"
    },
    {
     "data": {
      "image/png": "[encoded data removed]",
      "text/plain": [
       "<Figure size 2000x500 with 1 Axes>"
      ]
     },
     "metadata": {
      "needs_background": "light"
     },
     "output_type": "display_data"
    }
   ],
   "source": [
    "#train error\n",
    "X_t1 = model_1.predict(X_train)\n",
    "plt.figure(figsize=(40,10),dpi=50)\n",
    "plt.plot(true_range(df2, Y_train, 'mid1'))\n",
    "plt.plot(true_range(df2, X_t1, 'mid1'))"
   ]
  },
  {
   "cell_type": "code",
   "execution_count": 10,
   "metadata": {},
   "outputs": [
    {
     "data": {
      "text/plain": [
       "[<matplotlib.lines.Line2D at 0x2258e4a9148>]"
      ]
     },
     "execution_count": 10,
     "metadata": {},
     "output_type": "execute_result"
    },
    {
     "data": {
      "image/png": "[encoded data removed]",
      "text/plain": [
       "<Figure size 2000x500 with 1 Axes>"
      ]
     },
     "metadata": {
      "needs_background": "light"
     },
     "output_type": "display_data"
    }
   ],
   "source": [
    "#test error\n",
    "Xt1 = model_1.predict(X_test)\n",
    "plt.figure(figsize=(40,10),dpi=50)\n",
    "plt.plot(true_range(df2, Y_test, 'mid1'))\n",
    "plt.plot(true_range(df2, Xt1, 'mid1'))"
   ]
  },
  {
   "cell_type": "code",
   "execution_count": 11,
   "metadata": {},
   "outputs": [
    {
     "data": {
      "text/plain": [
       "<matplotlib.collections.PathCollection at 0x224e106e9c8>"
      ]
     },
     "execution_count": 11,
     "metadata": {},
     "output_type": "execute_result"
    },
    {
     "data": {
      "image/png": "[encoded data removed]",
      "text/plain": [
       "<Figure size 500x500 with 1 Axes>"
      ]
     },
     "metadata": {
      "needs_background": "light"
     },
     "output_type": "display_data"
    }
   ],
   "source": [
    "#train error scatter plot\n",
    "plt.figure(figsize=(10,10),dpi=50)\n",
    "plt.scatter(true_range(df2, Y_train, 'mid1'), true_range(df2, X_t1, 'mid1'), color = ['black'])"
   ]
  },
  {
   "cell_type": "code",
   "execution_count": 12,
   "metadata": {},
   "outputs": [
    {
     "data": {
      "text/plain": [
       "<matplotlib.collections.PathCollection at 0x224e106e308>"
      ]
     },
     "execution_count": 12,
     "metadata": {},
     "output_type": "execute_result"
    },
    {
     "data": {
      "image/png": "[encoded data removed]",
      "text/plain": [
       "<Figure size 500x500 with 1 Axes>"
      ]
     },
     "metadata": {
      "needs_background": "light"
     },
     "output_type": "display_data"
    }
   ],
   "source": [
    "#test error scatter plot\n",
    "plt.figure(figsize=(10,10),dpi=50)\n",
    "plt.scatter(true_range(df2, Y_test, 'mid1'), true_range(df2, Xt1, 'mid1'), color = ['black'])"
   ]
  },
  {
   "cell_type": "code",
   "execution_count": null,
   "metadata": {},
   "outputs": [],
   "source": []
  },
  {
   "cell_type": "code",
   "execution_count": 423,
   "metadata": {},
   "outputs": [],
   "source": [
    "df['equity_value'] = pd.DataFrame(data = np.zeros((len(df), 1)), index = df.index[:])\n",
    "df_test = df.iloc[187412: ]\n",
    "df_train = df.iloc[0:187412]\n",
    "#1~10 pred 11, hence start from 11\n",
    "df_train = df_train.iloc[11:, :]\n",
    "df_test = df_test.iloc[11:, :]\n",
    "#calculate pred return\n",
    "df_train['pred_mid'] = true_range(df2, X_t1, 'mid1')\n",
    "df_train['mid_shift'] = df_train['pred_mid'].shift(1)\n",
    "df_test['pred_mid'] = true_range(df2, Xt1, 'mid1')\n",
    "df_test['mid_shift'] = df_test['pred_mid'].shift(1)\n",
    "#pred return train\n",
    "df_train['pred_return'] = (df_train['pred_mid'] / df_train['mid_shift']) - 1\n",
    "#pred return test\n",
    "df_test['pred_return'] = (df_test['pred_mid'] / df_test['mid_shift']) - 1"
   ]
  },
  {
   "cell_type": "code",
   "execution_count": 424,
   "metadata": {},
   "outputs": [],
   "source": [
    "df_train = df_train.reset_index(drop = True)\n",
    "df_test = df_test.reset_index(drop = True)\n",
    "df_train = df_train.drop([0])\n",
    "df_train = df_train.reset_index(drop = True)\n",
    "df_test = df_test.drop([0])\n",
    "df_test = df_test.reset_index(drop = True)"
   ]
  },
  {
   "cell_type": "code",
   "execution_count": 372,
   "metadata": {},
   "outputs": [
    {
     "data": {
      "text/html": [
       "<div>\n",
       "<style scoped>\n",
       "    .dataframe tbody tr th:only-of-type {\n",
       "        vertical-align: middle;\n",
       "    }\n",
       "\n",
       "    .dataframe tbody tr th {\n",
       "        vertical-align: top;\n",
       "    }\n",
       "\n",
       "    .dataframe thead th {\n",
       "        text-align: right;\n",
       "    }\n",
       "</style>\n",
       "<table border=\"1\" class=\"dataframe\">\n",
       "  <thead>\n",
       "    <tr style=\"text-align: right;\">\n",
       "      <th></th>\n",
       "      <th>DealPrice</th>\n",
       "      <th>DealQty</th>\n",
       "      <th>BidQty1</th>\n",
       "      <th>Bid1</th>\n",
       "      <th>Ask1</th>\n",
       "      <th>AskQty1</th>\n",
       "      <th>BidQty2</th>\n",
       "      <th>Bid2</th>\n",
       "      <th>Ask2</th>\n",
       "      <th>AskQty2</th>\n",
       "      <th>...</th>\n",
       "      <th>dbq1_dt</th>\n",
       "      <th>dbq2_dt</th>\n",
       "      <th>dbq3_dt</th>\n",
       "      <th>dbq4_dt</th>\n",
       "      <th>dbq5_dt</th>\n",
       "      <th>mid1</th>\n",
       "      <th>equity_value</th>\n",
       "      <th>pred_mid</th>\n",
       "      <th>mid_shift</th>\n",
       "      <th>pred_return</th>\n",
       "    </tr>\n",
       "  </thead>\n",
       "  <tbody>\n",
       "    <tr>\n",
       "      <th>0</th>\n",
       "      <td>0.0</td>\n",
       "      <td>0</td>\n",
       "      <td>30</td>\n",
       "      <td>165.0</td>\n",
       "      <td>166.0</td>\n",
       "      <td>58</td>\n",
       "      <td>13</td>\n",
       "      <td>164.5</td>\n",
       "      <td>166.5</td>\n",
       "      <td>27</td>\n",
       "      <td>...</td>\n",
       "      <td>0.0</td>\n",
       "      <td>0.0</td>\n",
       "      <td>0.0</td>\n",
       "      <td>1.0</td>\n",
       "      <td>0.0</td>\n",
       "      <td>165.50</td>\n",
       "      <td>0.0</td>\n",
       "      <td>164.103439</td>\n",
       "      <td>163.828247</td>\n",
       "      <td>0.001680</td>\n",
       "    </tr>\n",
       "    <tr>\n",
       "      <th>1</th>\n",
       "      <td>0.0</td>\n",
       "      <td>0</td>\n",
       "      <td>30</td>\n",
       "      <td>165.0</td>\n",
       "      <td>165.5</td>\n",
       "      <td>1</td>\n",
       "      <td>13</td>\n",
       "      <td>164.5</td>\n",
       "      <td>166.0</td>\n",
       "      <td>58</td>\n",
       "      <td>...</td>\n",
       "      <td>0.0</td>\n",
       "      <td>0.0</td>\n",
       "      <td>0.0</td>\n",
       "      <td>0.0</td>\n",
       "      <td>0.0</td>\n",
       "      <td>165.25</td>\n",
       "      <td>0.0</td>\n",
       "      <td>164.168091</td>\n",
       "      <td>164.103439</td>\n",
       "      <td>0.000394</td>\n",
       "    </tr>\n",
       "    <tr>\n",
       "      <th>2</th>\n",
       "      <td>0.0</td>\n",
       "      <td>0</td>\n",
       "      <td>30</td>\n",
       "      <td>165.0</td>\n",
       "      <td>165.5</td>\n",
       "      <td>2</td>\n",
       "      <td>13</td>\n",
       "      <td>164.5</td>\n",
       "      <td>166.0</td>\n",
       "      <td>58</td>\n",
       "      <td>...</td>\n",
       "      <td>0.0</td>\n",
       "      <td>0.0</td>\n",
       "      <td>0.0</td>\n",
       "      <td>0.0</td>\n",
       "      <td>0.0</td>\n",
       "      <td>165.25</td>\n",
       "      <td>0.0</td>\n",
       "      <td>164.137451</td>\n",
       "      <td>164.168091</td>\n",
       "      <td>-0.000187</td>\n",
       "    </tr>\n",
       "    <tr>\n",
       "      <th>3</th>\n",
       "      <td>0.0</td>\n",
       "      <td>0</td>\n",
       "      <td>30</td>\n",
       "      <td>165.0</td>\n",
       "      <td>165.5</td>\n",
       "      <td>2</td>\n",
       "      <td>9</td>\n",
       "      <td>164.5</td>\n",
       "      <td>166.0</td>\n",
       "      <td>58</td>\n",
       "      <td>...</td>\n",
       "      <td>0.0</td>\n",
       "      <td>-4.0</td>\n",
       "      <td>0.0</td>\n",
       "      <td>0.0</td>\n",
       "      <td>0.0</td>\n",
       "      <td>165.25</td>\n",
       "      <td>0.0</td>\n",
       "      <td>164.073883</td>\n",
       "      <td>164.137451</td>\n",
       "      <td>-0.000387</td>\n",
       "    </tr>\n",
       "    <tr>\n",
       "      <th>4</th>\n",
       "      <td>165.5</td>\n",
       "      <td>1</td>\n",
       "      <td>30</td>\n",
       "      <td>165.0</td>\n",
       "      <td>165.5</td>\n",
       "      <td>1</td>\n",
       "      <td>9</td>\n",
       "      <td>164.5</td>\n",
       "      <td>166.0</td>\n",
       "      <td>58</td>\n",
       "      <td>...</td>\n",
       "      <td>0.0</td>\n",
       "      <td>0.0</td>\n",
       "      <td>0.0</td>\n",
       "      <td>0.0</td>\n",
       "      <td>0.0</td>\n",
       "      <td>165.25</td>\n",
       "      <td>0.0</td>\n",
       "      <td>164.062576</td>\n",
       "      <td>164.073883</td>\n",
       "      <td>-0.000069</td>\n",
       "    </tr>\n",
       "    <tr>\n",
       "      <th>...</th>\n",
       "      <td>...</td>\n",
       "      <td>...</td>\n",
       "      <td>...</td>\n",
       "      <td>...</td>\n",
       "      <td>...</td>\n",
       "      <td>...</td>\n",
       "      <td>...</td>\n",
       "      <td>...</td>\n",
       "      <td>...</td>\n",
       "      <td>...</td>\n",
       "      <td>...</td>\n",
       "      <td>...</td>\n",
       "      <td>...</td>\n",
       "      <td>...</td>\n",
       "      <td>...</td>\n",
       "      <td>...</td>\n",
       "      <td>...</td>\n",
       "      <td>...</td>\n",
       "      <td>...</td>\n",
       "      <td>...</td>\n",
       "      <td>...</td>\n",
       "    </tr>\n",
       "    <tr>\n",
       "      <th>44013</th>\n",
       "      <td>0.0</td>\n",
       "      <td>0</td>\n",
       "      <td>29</td>\n",
       "      <td>163.5</td>\n",
       "      <td>164.0</td>\n",
       "      <td>72</td>\n",
       "      <td>68</td>\n",
       "      <td>163.0</td>\n",
       "      <td>164.5</td>\n",
       "      <td>71</td>\n",
       "      <td>...</td>\n",
       "      <td>0.0</td>\n",
       "      <td>1.0</td>\n",
       "      <td>0.0</td>\n",
       "      <td>0.0</td>\n",
       "      <td>0.0</td>\n",
       "      <td>163.75</td>\n",
       "      <td>0.0</td>\n",
       "      <td>162.374954</td>\n",
       "      <td>162.374725</td>\n",
       "      <td>0.000001</td>\n",
       "    </tr>\n",
       "    <tr>\n",
       "      <th>44014</th>\n",
       "      <td>0.0</td>\n",
       "      <td>0</td>\n",
       "      <td>29</td>\n",
       "      <td>163.5</td>\n",
       "      <td>164.0</td>\n",
       "      <td>72</td>\n",
       "      <td>69</td>\n",
       "      <td>163.0</td>\n",
       "      <td>164.5</td>\n",
       "      <td>71</td>\n",
       "      <td>...</td>\n",
       "      <td>0.0</td>\n",
       "      <td>1.0</td>\n",
       "      <td>0.0</td>\n",
       "      <td>0.0</td>\n",
       "      <td>0.0</td>\n",
       "      <td>163.75</td>\n",
       "      <td>0.0</td>\n",
       "      <td>162.340637</td>\n",
       "      <td>162.374954</td>\n",
       "      <td>-0.000211</td>\n",
       "    </tr>\n",
       "    <tr>\n",
       "      <th>44015</th>\n",
       "      <td>0.0</td>\n",
       "      <td>0</td>\n",
       "      <td>29</td>\n",
       "      <td>163.5</td>\n",
       "      <td>164.0</td>\n",
       "      <td>72</td>\n",
       "      <td>69</td>\n",
       "      <td>163.0</td>\n",
       "      <td>164.5</td>\n",
       "      <td>71</td>\n",
       "      <td>...</td>\n",
       "      <td>0.0</td>\n",
       "      <td>0.0</td>\n",
       "      <td>0.0</td>\n",
       "      <td>0.0</td>\n",
       "      <td>0.0</td>\n",
       "      <td>163.75</td>\n",
       "      <td>0.0</td>\n",
       "      <td>162.352936</td>\n",
       "      <td>162.340637</td>\n",
       "      <td>0.000076</td>\n",
       "    </tr>\n",
       "    <tr>\n",
       "      <th>44016</th>\n",
       "      <td>0.0</td>\n",
       "      <td>0</td>\n",
       "      <td>29</td>\n",
       "      <td>163.5</td>\n",
       "      <td>164.0</td>\n",
       "      <td>72</td>\n",
       "      <td>70</td>\n",
       "      <td>163.0</td>\n",
       "      <td>164.5</td>\n",
       "      <td>71</td>\n",
       "      <td>...</td>\n",
       "      <td>0.0</td>\n",
       "      <td>1.0</td>\n",
       "      <td>0.0</td>\n",
       "      <td>0.0</td>\n",
       "      <td>0.0</td>\n",
       "      <td>163.75</td>\n",
       "      <td>0.0</td>\n",
       "      <td>162.410889</td>\n",
       "      <td>162.352936</td>\n",
       "      <td>0.000357</td>\n",
       "    </tr>\n",
       "    <tr>\n",
       "      <th>44017</th>\n",
       "      <td>0.0</td>\n",
       "      <td>0</td>\n",
       "      <td>29</td>\n",
       "      <td>163.5</td>\n",
       "      <td>164.0</td>\n",
       "      <td>73</td>\n",
       "      <td>70</td>\n",
       "      <td>163.0</td>\n",
       "      <td>164.5</td>\n",
       "      <td>71</td>\n",
       "      <td>...</td>\n",
       "      <td>0.0</td>\n",
       "      <td>0.0</td>\n",
       "      <td>0.0</td>\n",
       "      <td>0.0</td>\n",
       "      <td>0.0</td>\n",
       "      <td>163.75</td>\n",
       "      <td>0.0</td>\n",
       "      <td>162.378311</td>\n",
       "      <td>162.410889</td>\n",
       "      <td>-0.000201</td>\n",
       "    </tr>\n",
       "  </tbody>\n",
       "</table>\n",
       "<p>44018 rows × 71 columns</p>\n",
       "</div>"
      ],
      "text/plain": [
       "       DealPrice  DealQty  BidQty1   Bid1   Ask1  AskQty1  BidQty2   Bid2  \\\n",
       "0            0.0        0       30  165.0  166.0       58       13  164.5   \n",
       "1            0.0        0       30  165.0  165.5        1       13  164.5   \n",
       "2            0.0        0       30  165.0  165.5        2       13  164.5   \n",
       "3            0.0        0       30  165.0  165.5        2        9  164.5   \n",
       "4          165.5        1       30  165.0  165.5        1        9  164.5   \n",
       "...          ...      ...      ...    ...    ...      ...      ...    ...   \n",
       "44013        0.0        0       29  163.5  164.0       72       68  163.0   \n",
       "44014        0.0        0       29  163.5  164.0       72       69  163.0   \n",
       "44015        0.0        0       29  163.5  164.0       72       69  163.0   \n",
       "44016        0.0        0       29  163.5  164.0       72       70  163.0   \n",
       "44017        0.0        0       29  163.5  164.0       73       70  163.0   \n",
       "\n",
       "        Ask2  AskQty2  ...  dbq1_dt  dbq2_dt  dbq3_dt  dbq4_dt  dbq5_dt  \\\n",
       "0      166.5       27  ...      0.0      0.0      0.0      1.0      0.0   \n",
       "1      166.0       58  ...      0.0      0.0      0.0      0.0      0.0   \n",
       "2      166.0       58  ...      0.0      0.0      0.0      0.0      0.0   \n",
       "3      166.0       58  ...      0.0     -4.0      0.0      0.0      0.0   \n",
       "4      166.0       58  ...      0.0      0.0      0.0      0.0      0.0   \n",
       "...      ...      ...  ...      ...      ...      ...      ...      ...   \n",
       "44013  164.5       71  ...      0.0      1.0      0.0      0.0      0.0   \n",
       "44014  164.5       71  ...      0.0      1.0      0.0      0.0      0.0   \n",
       "44015  164.5       71  ...      0.0      0.0      0.0      0.0      0.0   \n",
       "44016  164.5       71  ...      0.0      1.0      0.0      0.0      0.0   \n",
       "44017  164.5       71  ...      0.0      0.0      0.0      0.0      0.0   \n",
       "\n",
       "         mid1  equity_value    pred_mid   mid_shift  pred_return  \n",
       "0      165.50           0.0  164.103439  163.828247     0.001680  \n",
       "1      165.25           0.0  164.168091  164.103439     0.000394  \n",
       "2      165.25           0.0  164.137451  164.168091    -0.000187  \n",
       "3      165.25           0.0  164.073883  164.137451    -0.000387  \n",
       "4      165.25           0.0  164.062576  164.073883    -0.000069  \n",
       "...       ...           ...         ...         ...          ...  \n",
       "44013  163.75           0.0  162.374954  162.374725     0.000001  \n",
       "44014  163.75           0.0  162.340637  162.374954    -0.000211  \n",
       "44015  163.75           0.0  162.352936  162.340637     0.000076  \n",
       "44016  163.75           0.0  162.410889  162.352936     0.000357  \n",
       "44017  163.75           0.0  162.378311  162.410889    -0.000201  \n",
       "\n",
       "[44018 rows x 71 columns]"
      ]
     },
     "execution_count": 372,
     "metadata": {},
     "output_type": "execute_result"
    }
   ],
   "source": [
    "df_test"
   ]
  },
  {
   "cell_type": "markdown",
   "metadata": {},
   "source": [
    "# mid1_train"
   ]
  },
  {
   "cell_type": "code",
   "execution_count": null,
   "metadata": {
    "scrolled": true
   },
   "outputs": [],
   "source": []
  },
  {
   "cell_type": "code",
   "execution_count": null,
   "metadata": {
    "scrolled": true
   },
   "outputs": [],
   "source": []
  },
  {
   "cell_type": "code",
   "execution_count": null,
   "metadata": {},
   "outputs": [],
   "source": []
  },
  {
   "cell_type": "code",
   "execution_count": null,
   "metadata": {},
   "outputs": [],
   "source": []
  },
  {
   "cell_type": "code",
   "execution_count": null,
   "metadata": {},
   "outputs": [],
   "source": []
  },
  {
   "cell_type": "code",
   "execution_count": null,
   "metadata": {},
   "outputs": [],
   "source": []
  },
  {
   "cell_type": "code",
   "execution_count": 565,
   "metadata": {
    "scrolled": true
   },
   "outputs": [
    {
     "data": {
      "text/plain": [
       "[(0.003, -0.003),\n",
       " (0.003, -0.0025),\n",
       " (0.003, -0.002),\n",
       " (0.003, -0.0015),\n",
       " (0.003, -0.001),\n",
       " (0.0025, -0.003),\n",
       " (0.0025, -0.0025),\n",
       " (0.0025, -0.002),\n",
       " (0.0025, -0.0015),\n",
       " (0.0025, -0.001),\n",
       " (0.002, -0.003),\n",
       " (0.002, -0.0025),\n",
       " (0.002, -0.002),\n",
       " (0.002, -0.0015),\n",
       " (0.002, -0.001),\n",
       " (0.0015, -0.003),\n",
       " (0.0015, -0.0025),\n",
       " (0.0015, -0.002),\n",
       " (0.0015, -0.0015),\n",
       " (0.0015, -0.001),\n",
       " (0.001, -0.003),\n",
       " (0.001, -0.0025),\n",
       " (0.001, -0.002),\n",
       " (0.001, -0.0015),\n",
       " (0.001, -0.001)]"
      ]
     },
     "execution_count": 565,
     "metadata": {},
     "output_type": "execute_result"
    }
   ],
   "source": [
    "#setting parameters\n",
    "import itertools \n",
    "long_side, short_side = [0.003, 0.0025, 0.002, 0.0015, 0.001], [-0.003, -0.0025, -0.002, -0.0015, -0.001]\n",
    "paras = list(itertools.product(long_side, short_side))\n",
    "paras"
   ]
  },
  {
   "cell_type": "code",
   "execution_count": 566,
   "metadata": {
    "scrolled": true
   },
   "outputs": [
    {
     "name": "stderr",
     "output_type": "stream",
     "text": [
      "C:\\Users\\user10\\Anaconda3\\envs\\PythonGPU\\lib\\site-packages\\ipykernel_launcher.py:38: SettingWithCopyWarning: \n",
      "A value is trying to be set on a copy of a slice from a DataFrame\n",
      "\n",
      "See the caveats in the documentation: https://pandas.pydata.org/pandas-docs/stable/user_guide/indexing.html#returning-a-view-versus-a-copy\n",
      "C:\\Users\\user10\\Anaconda3\\envs\\PythonGPU\\lib\\site-packages\\ipykernel_launcher.py:66: SettingWithCopyWarning: \n",
      "A value is trying to be set on a copy of a slice from a DataFrame\n",
      "\n",
      "See the caveats in the documentation: https://pandas.pydata.org/pandas-docs/stable/user_guide/indexing.html#returning-a-view-versus-a-copy\n",
      "C:\\Users\\user10\\Anaconda3\\envs\\PythonGPU\\lib\\site-packages\\ipykernel_launcher.py:70: SettingWithCopyWarning: \n",
      "A value is trying to be set on a copy of a slice from a DataFrame\n",
      "\n",
      "See the caveats in the documentation: https://pandas.pydata.org/pandas-docs/stable/user_guide/indexing.html#returning-a-view-versus-a-copy\n",
      "C:\\Users\\user10\\Anaconda3\\envs\\PythonGPU\\lib\\site-packages\\ipykernel_launcher.py:58: SettingWithCopyWarning: \n",
      "A value is trying to be set on a copy of a slice from a DataFrame\n",
      "\n",
      "See the caveats in the documentation: https://pandas.pydata.org/pandas-docs/stable/user_guide/indexing.html#returning-a-view-versus-a-copy\n",
      "C:\\Users\\user10\\Anaconda3\\envs\\PythonGPU\\lib\\site-packages\\ipykernel_launcher.py:42: SettingWithCopyWarning: \n",
      "A value is trying to be set on a copy of a slice from a DataFrame\n",
      "\n",
      "See the caveats in the documentation: https://pandas.pydata.org/pandas-docs/stable/user_guide/indexing.html#returning-a-view-versus-a-copy\n",
      "C:\\Users\\user10\\Anaconda3\\envs\\PythonGPU\\lib\\site-packages\\ipykernel_launcher.py:61: SettingWithCopyWarning: \n",
      "A value is trying to be set on a copy of a slice from a DataFrame\n",
      "\n",
      "See the caveats in the documentation: https://pandas.pydata.org/pandas-docs/stable/user_guide/indexing.html#returning-a-view-versus-a-copy\n",
      "C:\\Users\\user10\\Anaconda3\\envs\\PythonGPU\\lib\\site-packages\\ipykernel_launcher.py:78: SettingWithCopyWarning: \n",
      "A value is trying to be set on a copy of a slice from a DataFrame\n",
      "\n",
      "See the caveats in the documentation: https://pandas.pydata.org/pandas-docs/stable/user_guide/indexing.html#returning-a-view-versus-a-copy\n",
      "C:\\Users\\user10\\Anaconda3\\envs\\PythonGPU\\lib\\site-packages\\ipykernel_launcher.py:83: SettingWithCopyWarning: \n",
      "A value is trying to be set on a copy of a slice from a DataFrame\n",
      "\n",
      "See the caveats in the documentation: https://pandas.pydata.org/pandas-docs/stable/user_guide/indexing.html#returning-a-view-versus-a-copy\n",
      "C:\\Users\\user10\\Anaconda3\\envs\\PythonGPU\\lib\\site-packages\\ipykernel_launcher.py:92: SettingWithCopyWarning: \n",
      "A value is trying to be set on a copy of a slice from a DataFrame\n",
      "\n",
      "See the caveats in the documentation: https://pandas.pydata.org/pandas-docs/stable/user_guide/indexing.html#returning-a-view-versus-a-copy\n",
      "C:\\Users\\user10\\Anaconda3\\envs\\PythonGPU\\lib\\site-packages\\ipykernel_launcher.py:54: SettingWithCopyWarning: \n",
      "A value is trying to be set on a copy of a slice from a DataFrame\n",
      "\n",
      "See the caveats in the documentation: https://pandas.pydata.org/pandas-docs/stable/user_guide/indexing.html#returning-a-view-versus-a-copy\n",
      "C:\\Users\\user10\\Anaconda3\\envs\\PythonGPU\\lib\\site-packages\\ipykernel_launcher.py:87: SettingWithCopyWarning: \n",
      "A value is trying to be set on a copy of a slice from a DataFrame\n",
      "\n",
      "See the caveats in the documentation: https://pandas.pydata.org/pandas-docs/stable/user_guide/indexing.html#returning-a-view-versus-a-copy\n",
      "C:\\Users\\user10\\Anaconda3\\envs\\PythonGPU\\lib\\site-packages\\ipykernel_launcher.py:47: SettingWithCopyWarning: \n",
      "A value is trying to be set on a copy of a slice from a DataFrame\n",
      "\n",
      "See the caveats in the documentation: https://pandas.pydata.org/pandas-docs/stable/user_guide/indexing.html#returning-a-view-versus-a-copy\n",
      "C:\\Users\\user10\\Anaconda3\\envs\\PythonGPU\\lib\\site-packages\\ipykernel_launcher.py:75: SettingWithCopyWarning: \n",
      "A value is trying to be set on a copy of a slice from a DataFrame\n",
      "\n",
      "See the caveats in the documentation: https://pandas.pydata.org/pandas-docs/stable/user_guide/indexing.html#returning-a-view-versus-a-copy\n"
     ]
    }
   ],
   "source": [
    "#adding hard stop (+ 0.01, -0.01)\n",
    "#main strategy (train set)\n",
    "#record transaction\n",
    "transaction_history = {}\n",
    "#record equity values\n",
    "equity_value_1 = pd.DataFrame()\n",
    "for l in range(len(paras)):\n",
    "    df_train['side'] = pd.DataFrame(data = np.zeros((len(df_train), 1)), index = df_train.index[:])\n",
    "    for j in range(len(df_train)):\n",
    "        if df_train['pred_return'].iloc[j] > paras[l][0]:\n",
    "            df_train['side'].iloc[j] = 1\n",
    "        elif df_train['pred_return'].iloc[j] < paras[l][1]:\n",
    "            df_train['side'].iloc[j] = -1\n",
    "    date_idx = df_train['TxTime'].unique()\n",
    "    equity_value1 = pd.DataFrame()\n",
    "    for k in date_idx:\n",
    "        df = df_train[df_train.TxTime == k]\n",
    "        side = 0\n",
    "        for i in range(len(df)):\n",
    "            #first tick\n",
    "            if i == 0:\n",
    "                #ask1 may be 0, which means 漲停 (買不到)\n",
    "                if (df['side'].iloc[i] == 1) and (df['Ask1'].iloc[i] != 0):\n",
    "                    side = 1\n",
    "                    #stock_price = df['Ask1'].iloc[i]\n",
    "                    df['equity_value'].iloc[i] = 0\n",
    "                    transaction_history = record_transaction(paras[l], k, i, 1, df['Ask1'].iloc[i], 0, transaction_history)\n",
    "                elif (df['side'].iloc[i] == 1) and (df['Ask1'].iloc[i] == 0):\n",
    "                    side = 0\n",
    "                    df['equity_value'].iloc[i] = 0\n",
    "                elif df['side'].iloc[i] == -1:\n",
    "                    side = -1\n",
    "                    #stock_price = df['Bid1'].iloc[i]\n",
    "                    df['equity_value'].iloc[i] = - 0.0015\n",
    "                    transaction_history = record_transaction(paras[l], k, i, -1, df['Bid1'].iloc[i], -0.0015, transaction_history)\n",
    "                else:\n",
    "                    side = 0\n",
    "                    df['equity_value'].iloc[i] = 0\n",
    "            #last tick\n",
    "            elif i == (len(df) - 1):\n",
    "                if side == 1:\n",
    "                    df['equity_value'].iloc[i] = (df['Bid1'].iloc[i] / transaction_history[paras[l]][-1]['Price'] - 1) - 0.0015\n",
    "                    num_transaction.append(i)\n",
    "                    transaction_history = record_transaction(paras[l], k, i, -1, df['Bid1'].iloc[i], df['equity_value'].iloc[i], transaction_history)\n",
    "                #ask1 may be 0, which means 漲停 (買不到)\n",
    "                elif (side == -1) and (df['Ask1'].iloc[i] != 0):\n",
    "                    df['equity_value'].iloc[i] = (df['Ask1'].iloc[i] / transaction_history[paras[l]][-1]['Price'] - 1) * (-1)\n",
    "                    num_transaction.append(i)\n",
    "                    transaction_history = record_transaction(paras[l], k, i, 1, df['Ask1'].iloc[i], df['equity_value'].iloc[i], transaction_history)\n",
    "                #收盤如果漲停，空單結不掉\n",
    "                #elif (side == -1) and (df['Ask1'].iloc[i] == 0):\n",
    "                    #df['equity_value'].iloc[i] = (df['Ask2'].iloc[i] / df['mid1'].iloc[i-1] - 1)\n",
    "                else:\n",
    "                    df['equity_value'].iloc[i] = 0\n",
    "            else:\n",
    "                if (side == 1 and df['side'].iloc[i] == 1) or (side == 1 and df['side'].iloc[i] == 0):\n",
    "                    side = 1\n",
    "                    df['equity_value'].iloc[i] = 0 \n",
    "                elif (side == 1 and (df['mid1'].iloc[i-1] / transaction_history[paras[l]][-1]['Price'] - 1) < -0.01) or (side == 1 and (df['mid1'].iloc[i-1] / transaction_history[paras[l]][-1]['Price'] - 1) > 0.01):\n",
    "                    side = 0\n",
    "                    df['equity_value'].iloc[i] = (df['Bid1'].iloc[i] / transaction_history[paras[l]][-1]['Price'] - 1) - 0.0015\n",
    "                    num_transaction.append(i)\n",
    "                    transaction_history = record_transaction(paras[l], k, i, -1, df['Bid1'].iloc[i], df['equity_value'].iloc[i], transaction_history)\n",
    "                elif side == 0 and df['side'].iloc[i] == 0:\n",
    "                    side = 0\n",
    "                    df['equity_value'].iloc[i] = 0\n",
    "                #ask1 may be 0, which means 漲停 (買不到)\n",
    "                elif (side == 0) and (df['side'].iloc[i] == 1) and (df['Ask1'].iloc[i] != 0):\n",
    "                    side = 1\n",
    "                    df['equity_value'].iloc[i] = 0\n",
    "                    #stock_price = df['Ask1'].iloc[i]\n",
    "                    transaction_history = record_transaction(paras[l], k, i, 1, df['Ask1'].iloc[i], 0, transaction_history)\n",
    "                elif (side == 0) and (df['side'].iloc[i] == 1) and (df['Ask1'].iloc[i] == 0):\n",
    "                    side = 0\n",
    "                    df['equity_value'].iloc[i] = 0\n",
    "                elif side == 0 and df['side'].iloc[i] == -1:\n",
    "                    side = -1\n",
    "                    df['equity_value'].iloc[i] = - 0.0015\n",
    "                    #stock_price = df['Bid1'].iloc[i]\n",
    "                    transaction_history = record_transaction(paras[l], k, i, -1, df['Bid1'].iloc[i], -0.0015, transaction_history)\n",
    "                elif (side == -1 and df['side'].iloc[i] == 0) or (side == -1 and df['side'].iloc[i] == -1):\n",
    "                    side = -1\n",
    "                    df['equity_value'].iloc[i] = 0\n",
    "                #ask1 may be 0, which means 漲停 (買不到)\n",
    "                elif ((side == -1) and (df['Ask1'].iloc[i] != 0) and (df['mid1'].iloc[i-1] / transaction_history[paras[l]][-1]['Price'] - 1) * (-1) < -0.01) or ((side == -1) and (df['Ask1'].iloc[i] != 0) and (df['mid1'].iloc[i-1] / transaction_history[paras[l]][-1]['Price'] - 1) * (-1) > 0.01):\n",
    "                    side = 0\n",
    "                    df['equity_value'].iloc[i] = (df['Ask1'].iloc[i] / transaction_history[paras[l]][-1]['Price'] - 1) * (-1)\n",
    "                    num_transaction.append(i)\n",
    "                    transaction_history = record_transaction(paras[l], k, i, 1, df['Ask1'].iloc[i], df['equity_value'].iloc[i], transaction_history)\n",
    "                elif (side == -1) and (df['side'].iloc[i] == 1) and (df['Ask1'].iloc[i] == 0):\n",
    "                    side = -1\n",
    "                    df['equity_value'].iloc[i] = 0\n",
    "        equity_value1 = pd.concat([equity_value1, df[['equity_value']]])\n",
    "    #plt.subplot(5, 5, l+1)\n",
    "    equity_value_1 = pd.concat([equity_value_1, np.cumsum(equity_value1)], axis = 1)\n",
    "    #plt.plot(equity_value_1['equity_value'].iloc[:, l])\n",
    "    #print(transaction_history)"
   ]
  },
  {
   "cell_type": "code",
   "execution_count": 567,
   "metadata": {},
   "outputs": [
    {
     "data": {
      "image/png": "[encoded data removed]",
      "text/plain": [
       "<Figure size 432x288 with 25 Axes>"
      ]
     },
     "metadata": {
      "needs_background": "light"
     },
     "output_type": "display_data"
    }
   ],
   "source": [
    "#cumulative return\n",
    "for i in range(len(paras)):\n",
    "    plt.subplot(5, 5, i+1)\n",
    "    plt.plot(equity_value_1['equity_value'].iloc[:, i])"
   ]
  },
  {
   "cell_type": "code",
   "execution_count": 568,
   "metadata": {},
   "outputs": [
    {
     "data": {
      "text/plain": [
       "(0.002, -0.002)"
      ]
     },
     "execution_count": 568,
     "metadata": {},
     "output_type": "execute_result"
    }
   ],
   "source": [
    "equity_value_1.columns = paras\n",
    "equity_value_1.iloc[-1].idxmax()"
   ]
  },
  {
   "cell_type": "code",
   "execution_count": 600,
   "metadata": {},
   "outputs": [
    {
     "data": {
      "text/plain": [
       "[<matplotlib.lines.Line2D at 0x22469ed67c8>]"
      ]
     },
     "execution_count": 600,
     "metadata": {},
     "output_type": "execute_result"
    },
    {
     "data": {
      "image/png": "[encoded data removed]",
      "text/plain": [
       "<Figure size 432x288 with 1 Axes>"
      ]
     },
     "metadata": {
      "needs_background": "light"
     },
     "output_type": "display_data"
    }
   ],
   "source": [
    "plt.plot(equity_value_1[(0.002, -0.002)])"
   ]
  },
  {
   "cell_type": "code",
   "execution_count": 591,
   "metadata": {},
   "outputs": [
    {
     "data": {
      "text/plain": [
       "0.034361429459043254"
      ]
     },
     "execution_count": 591,
     "metadata": {},
     "output_type": "execute_result"
    }
   ],
   "source": [
    "equity_value_1.iloc[-1].max()"
   ]
  },
  {
   "cell_type": "code",
   "execution_count": 593,
   "metadata": {},
   "outputs": [
    {
     "data": {
      "text/plain": [
       "(0.0025, -0.002)    0.002323\n",
       "(0.002, -0.002)     0.034361\n",
       "(0.0015, -0.003)    0.009702\n",
       "(0.001, -0.003)     0.019263\n",
       "(0.001, -0.0025)    0.002458\n",
       "Name: 187399, dtype: float64"
      ]
     },
     "execution_count": 593,
     "metadata": {},
     "output_type": "execute_result"
    }
   ],
   "source": [
    "equity_value_1.iloc[-1][equity_value_1.iloc[-1] > 0]"
   ]
  },
  {
   "cell_type": "code",
   "execution_count": 584,
   "metadata": {
    "scrolled": true
   },
   "outputs": [
    {
     "data": {
      "text/plain": [
       "(0.003, -0.003)      False\n",
       "(0.003, -0.0025)     False\n",
       "(0.003, -0.002)      False\n",
       "(0.003, -0.0015)     False\n",
       "(0.003, -0.001)      False\n",
       "(0.0025, -0.003)     False\n",
       "(0.0025, -0.0025)    False\n",
       "(0.0025, -0.002)      True\n",
       "(0.0025, -0.0015)    False\n",
       "(0.0025, -0.001)     False\n",
       "(0.002, -0.003)      False\n",
       "(0.002, -0.0025)     False\n",
       "(0.002, -0.002)       True\n",
       "(0.002, -0.0015)     False\n",
       "(0.002, -0.001)      False\n",
       "(0.0015, -0.003)      True\n",
       "(0.0015, -0.0025)    False\n",
       "(0.0015, -0.002)     False\n",
       "(0.0015, -0.0015)    False\n",
       "(0.0015, -0.001)     False\n",
       "(0.001, -0.003)       True\n",
       "(0.001, -0.0025)      True\n",
       "(0.001, -0.002)      False\n",
       "(0.001, -0.0015)     False\n",
       "(0.001, -0.001)      False\n",
       "Name: 187399, dtype: bool"
      ]
     },
     "execution_count": 584,
     "metadata": {},
     "output_type": "execute_result"
    }
   ],
   "source": [
    "equity_value_1.iloc[-1] > 0"
   ]
  },
  {
   "cell_type": "code",
   "execution_count": null,
   "metadata": {},
   "outputs": [],
   "source": []
  },
  {
   "cell_type": "code",
   "execution_count": null,
   "metadata": {},
   "outputs": [],
   "source": []
  },
  {
   "cell_type": "code",
   "execution_count": null,
   "metadata": {},
   "outputs": [],
   "source": []
  },
  {
   "cell_type": "markdown",
   "metadata": {},
   "source": [
    "# mid1_test "
   ]
  },
  {
   "cell_type": "code",
   "execution_count": 585,
   "metadata": {},
   "outputs": [],
   "source": [
    "#test set\n",
    "paras = [(0.0025, -0.002), (0.002, -0.002), (0.0015, -0.003), (0.001, -0.003), (0.001, -0.0025)]"
   ]
  },
  {
   "cell_type": "code",
   "execution_count": 586,
   "metadata": {
    "scrolled": true
   },
   "outputs": [
    {
     "name": "stderr",
     "output_type": "stream",
     "text": [
      "C:\\Users\\user10\\Anaconda3\\envs\\PythonGPU\\lib\\site-packages\\pandas\\core\\indexing.py:670: SettingWithCopyWarning: \n",
      "A value is trying to be set on a copy of a slice from a DataFrame\n",
      "\n",
      "See the caveats in the documentation: https://pandas.pydata.org/pandas-docs/stable/user_guide/indexing.html#returning-a-view-versus-a-copy\n",
      "  self._setitem_with_indexer(indexer, value)\n",
      "C:\\Users\\user10\\Anaconda3\\envs\\PythonGPU\\lib\\site-packages\\ipykernel_launcher.py:38: SettingWithCopyWarning: \n",
      "A value is trying to be set on a copy of a slice from a DataFrame\n",
      "\n",
      "See the caveats in the documentation: https://pandas.pydata.org/pandas-docs/stable/user_guide/indexing.html#returning-a-view-versus-a-copy\n",
      "C:\\Users\\user10\\Anaconda3\\envs\\PythonGPU\\lib\\site-packages\\ipykernel_launcher.py:66: SettingWithCopyWarning: \n",
      "A value is trying to be set on a copy of a slice from a DataFrame\n",
      "\n",
      "See the caveats in the documentation: https://pandas.pydata.org/pandas-docs/stable/user_guide/indexing.html#returning-a-view-versus-a-copy\n",
      "C:\\Users\\user10\\Anaconda3\\envs\\PythonGPU\\lib\\site-packages\\ipykernel_launcher.py:70: SettingWithCopyWarning: \n",
      "A value is trying to be set on a copy of a slice from a DataFrame\n",
      "\n",
      "See the caveats in the documentation: https://pandas.pydata.org/pandas-docs/stable/user_guide/indexing.html#returning-a-view-versus-a-copy\n",
      "C:\\Users\\user10\\Anaconda3\\envs\\PythonGPU\\lib\\site-packages\\ipykernel_launcher.py:58: SettingWithCopyWarning: \n",
      "A value is trying to be set on a copy of a slice from a DataFrame\n",
      "\n",
      "See the caveats in the documentation: https://pandas.pydata.org/pandas-docs/stable/user_guide/indexing.html#returning-a-view-versus-a-copy\n",
      "C:\\Users\\user10\\Anaconda3\\envs\\PythonGPU\\lib\\site-packages\\ipykernel_launcher.py:61: SettingWithCopyWarning: \n",
      "A value is trying to be set on a copy of a slice from a DataFrame\n",
      "\n",
      "See the caveats in the documentation: https://pandas.pydata.org/pandas-docs/stable/user_guide/indexing.html#returning-a-view-versus-a-copy\n",
      "C:\\Users\\user10\\Anaconda3\\envs\\PythonGPU\\lib\\site-packages\\ipykernel_launcher.py:54: SettingWithCopyWarning: \n",
      "A value is trying to be set on a copy of a slice from a DataFrame\n",
      "\n",
      "See the caveats in the documentation: https://pandas.pydata.org/pandas-docs/stable/user_guide/indexing.html#returning-a-view-versus-a-copy\n",
      "C:\\Users\\user10\\Anaconda3\\envs\\PythonGPU\\lib\\site-packages\\ipykernel_launcher.py:78: SettingWithCopyWarning: \n",
      "A value is trying to be set on a copy of a slice from a DataFrame\n",
      "\n",
      "See the caveats in the documentation: https://pandas.pydata.org/pandas-docs/stable/user_guide/indexing.html#returning-a-view-versus-a-copy\n",
      "C:\\Users\\user10\\Anaconda3\\envs\\PythonGPU\\lib\\site-packages\\ipykernel_launcher.py:83: SettingWithCopyWarning: \n",
      "A value is trying to be set on a copy of a slice from a DataFrame\n",
      "\n",
      "See the caveats in the documentation: https://pandas.pydata.org/pandas-docs/stable/user_guide/indexing.html#returning-a-view-versus-a-copy\n",
      "C:\\Users\\user10\\Anaconda3\\envs\\PythonGPU\\lib\\site-packages\\ipykernel_launcher.py:47: SettingWithCopyWarning: \n",
      "A value is trying to be set on a copy of a slice from a DataFrame\n",
      "\n",
      "See the caveats in the documentation: https://pandas.pydata.org/pandas-docs/stable/user_guide/indexing.html#returning-a-view-versus-a-copy\n",
      "C:\\Users\\user10\\Anaconda3\\envs\\PythonGPU\\lib\\site-packages\\ipykernel_launcher.py:42: SettingWithCopyWarning: \n",
      "A value is trying to be set on a copy of a slice from a DataFrame\n",
      "\n",
      "See the caveats in the documentation: https://pandas.pydata.org/pandas-docs/stable/user_guide/indexing.html#returning-a-view-versus-a-copy\n",
      "C:\\Users\\user10\\Anaconda3\\envs\\PythonGPU\\lib\\site-packages\\ipykernel_launcher.py:26: SettingWithCopyWarning: \n",
      "A value is trying to be set on a copy of a slice from a DataFrame\n",
      "\n",
      "See the caveats in the documentation: https://pandas.pydata.org/pandas-docs/stable/user_guide/indexing.html#returning-a-view-versus-a-copy\n"
     ]
    }
   ],
   "source": [
    "#adding hard stop (+ 0.01, -0.01)\n",
    "#main strategy (train set)\n",
    "#record transaction\n",
    "transaction_history = {}\n",
    "#record equity values\n",
    "equity_value_2 = pd.DataFrame()\n",
    "for l in range(len(paras)):\n",
    "    df_test['side'] = pd.DataFrame(data = np.zeros((len(df_test), 1)), index = df_test.index[:])\n",
    "    for j in range(len(df_test)):\n",
    "        if df_test['pred_return'].iloc[j] > paras[l][0]:\n",
    "            df_test['side'].iloc[j] = 1\n",
    "        elif df_test['pred_return'].iloc[j] < paras[l][1]:\n",
    "            df_test['side'].iloc[j] = -1\n",
    "    date_idx = df_test['TxTime'].unique()\n",
    "    equity_value2 = pd.DataFrame()\n",
    "    for k in date_idx:\n",
    "        df = df_test[df_test.TxTime == k]\n",
    "        side = 0\n",
    "        for i in range(len(df)):\n",
    "            #first tick\n",
    "            if i == 0:\n",
    "                #ask1 may be 0, which means 漲停 (買不到)\n",
    "                if (df['side'].iloc[i] == 1) and (df['Ask1'].iloc[i] != 0):\n",
    "                    side = 1\n",
    "                    #stock_price = df['Ask1'].iloc[i]\n",
    "                    df['equity_value'].iloc[i] = 0\n",
    "                    transaction_history = record_transaction(paras[l], k, i, 1, df['Ask1'].iloc[i], 0, transaction_history)\n",
    "                elif (df['side'].iloc[i] == 1) and (df['Ask1'].iloc[i] == 0):\n",
    "                    side = 0\n",
    "                    df['equity_value'].iloc[i] = 0\n",
    "                elif df['side'].iloc[i] == -1:\n",
    "                    side = -1\n",
    "                    #stock_price = df['Bid1'].iloc[i]\n",
    "                    df['equity_value'].iloc[i] = - 0.0015\n",
    "                    transaction_history = record_transaction(paras[l], k, i, -1, df['Bid1'].iloc[i], -0.0015, transaction_history)\n",
    "                else:\n",
    "                    side = 0\n",
    "                    df['equity_value'].iloc[i] = 0\n",
    "            #last tick\n",
    "            elif i == (len(df) - 1):\n",
    "                if side == 1:\n",
    "                    df['equity_value'].iloc[i] = (df['Bid1'].iloc[i] / transaction_history[paras[l]][-1]['Price'] - 1) - 0.0015\n",
    "                    num_transaction.append(i)\n",
    "                    transaction_history = record_transaction(paras[l], k, i, -1, df['Bid1'].iloc[i], df['equity_value'].iloc[i], transaction_history)\n",
    "                #ask1 may be 0, which means 漲停 (買不到)\n",
    "                elif (side == -1) and (df['Ask1'].iloc[i] != 0):\n",
    "                    df['equity_value'].iloc[i] = (df['Ask1'].iloc[i] / transaction_history[paras[l]][-1]['Price'] - 1) * (-1)\n",
    "                    num_transaction.append(i)\n",
    "                    transaction_history = record_transaction(paras[l], k, i, 1, df['Ask1'].iloc[i], df['equity_value'].iloc[i], transaction_history)\n",
    "                #收盤如果漲停，空單結不掉\n",
    "                #elif (side == -1) and (df['Ask1'].iloc[i] == 0):\n",
    "                    #df['equity_value'].iloc[i] = (df['Ask2'].iloc[i] / df['mid1'].iloc[i-1] - 1)\n",
    "                else:\n",
    "                    df['equity_value'].iloc[i] = 0\n",
    "            else:\n",
    "                if (side == 1 and df['side'].iloc[i] == 1) or (side == 1 and df['side'].iloc[i] == 0):\n",
    "                    side = 1\n",
    "                    df['equity_value'].iloc[i] = 0 \n",
    "                elif (side == 1 and (df['mid1'].iloc[i-1] / transaction_history[paras[l]][-1]['Price'] - 1) < -0.01) or (side == 1 and (df['mid1'].iloc[i-1] / transaction_history[paras[l]][-1]['Price'] - 1) > 0.01):\n",
    "                    side = 0\n",
    "                    df['equity_value'].iloc[i] = (df['Bid1'].iloc[i] / transaction_history[paras[l]][-1]['Price'] - 1) - 0.0015\n",
    "                    num_transaction.append(i)\n",
    "                    transaction_history = record_transaction(paras[l], k, i, -1, df['Bid1'].iloc[i], df['equity_value'].iloc[i], transaction_history)\n",
    "                elif side == 0 and df['side'].iloc[i] == 0:\n",
    "                    side = 0\n",
    "                    df['equity_value'].iloc[i] = 0\n",
    "                #ask1 may be 0, which means 漲停 (買不到)\n",
    "                elif (side == 0) and (df['side'].iloc[i] == 1) and (df['Ask1'].iloc[i] != 0):\n",
    "                    side = 1\n",
    "                    df['equity_value'].iloc[i] = 0\n",
    "                    #stock_price = df['Ask1'].iloc[i]\n",
    "                    transaction_history = record_transaction(paras[l], k, i, 1, df['Ask1'].iloc[i], 0, transaction_history)\n",
    "                elif (side == 0) and (df['side'].iloc[i] == 1) and (df['Ask1'].iloc[i] == 0):\n",
    "                    side = 0\n",
    "                    df['equity_value'].iloc[i] = 0\n",
    "                elif side == 0 and df['side'].iloc[i] == -1:\n",
    "                    side = -1\n",
    "                    df['equity_value'].iloc[i] = - 0.0015\n",
    "                    #stock_price = df['Bid1'].iloc[i]\n",
    "                    transaction_history = record_transaction(paras[l], k, i, -1, df['Bid1'].iloc[i], -0.0015, transaction_history)\n",
    "                elif (side == -1 and df['side'].iloc[i] == 0) or (side == -1 and df['side'].iloc[i] == -1):\n",
    "                    side = -1\n",
    "                    df['equity_value'].iloc[i] = 0\n",
    "                #ask1 may be 0, which means 漲停 (買不到)\n",
    "                elif ((side == -1) and (df['Ask1'].iloc[i] != 0) and (df['mid1'].iloc[i-1] / transaction_history[paras[l]][-1]['Price'] - 1) * (-1) < -0.01) or ((side == -1) and (df['Ask1'].iloc[i] != 0) and (df['mid1'].iloc[i-1] / transaction_history[paras[l]][-1]['Price'] - 1) * (-1) > 0.01):\n",
    "                    side = 0\n",
    "                    df['equity_value'].iloc[i] = (df['Ask1'].iloc[i] / transaction_history[paras[l]][-1]['Price'] - 1) * (-1)\n",
    "                    num_transaction.append(i)\n",
    "                    transaction_history = record_transaction(paras[l], k, i, 1, df['Ask1'].iloc[i], df['equity_value'].iloc[i], transaction_history)\n",
    "                elif (side == -1) and (df['side'].iloc[i] == 1) and (df['Ask1'].iloc[i] == 0):\n",
    "                    side = -1\n",
    "                    df['equity_value'].iloc[i] = 0\n",
    "        equity_value2 = pd.concat([equity_value2, df[['equity_value']]])\n",
    "    #plt.subplot(5, 5, l+1)\n",
    "    equity_value_2 = pd.concat([equity_value_2, np.cumsum(equity_value2)], axis = 1)\n",
    "    #plt.plot(equity_value_1['equity_value'].iloc[:, l])\n",
    "    #print(transaction_history)"
   ]
  },
  {
   "cell_type": "code",
   "execution_count": 588,
   "metadata": {},
   "outputs": [
    {
     "data": {
      "image/png": "[encoded data removed]",
      "text/plain": [
       "<Figure size 432x288 with 5 Axes>"
      ]
     },
     "metadata": {
      "needs_background": "light"
     },
     "output_type": "display_data"
    }
   ],
   "source": [
    "#cumulative return (test)\n",
    "for i in range(len(paras)):\n",
    "    plt.subplot(3, 2, i+1)\n",
    "    plt.plot(equity_value_2['equity_value'].iloc[:, i])"
   ]
  },
  {
   "cell_type": "code",
   "execution_count": 589,
   "metadata": {},
   "outputs": [
    {
     "data": {
      "text/plain": [
       "(0.0025, -0.002)"
      ]
     },
     "execution_count": 589,
     "metadata": {},
     "output_type": "execute_result"
    }
   ],
   "source": [
    "equity_value_2.columns = paras\n",
    "equity_value_2.iloc[-1].idxmax()"
   ]
  },
  {
   "cell_type": "code",
   "execution_count": 590,
   "metadata": {},
   "outputs": [
    {
     "data": {
      "text/plain": [
       "(0.0025, -0.002)   -0.012615\n",
       "(0.002, -0.002)    -0.048805\n",
       "(0.0015, -0.003)   -0.090710\n",
       "(0.001, -0.003)    -0.072869\n",
       "(0.001, -0.0025)   -0.072869\n",
       "Name: 44017, dtype: float64"
      ]
     },
     "execution_count": 590,
     "metadata": {},
     "output_type": "execute_result"
    }
   ],
   "source": [
    "equity_value_2.iloc[-1]"
   ]
  },
  {
   "cell_type": "code",
   "execution_count": 596,
   "metadata": {},
   "outputs": [
    {
     "data": {
      "text/plain": [
       "313"
      ]
     },
     "execution_count": 596,
     "metadata": {},
     "output_type": "execute_result"
    }
   ],
   "source": [
    "np.sum(df_test['pred_return'] > 0.001)"
   ]
  },
  {
   "cell_type": "code",
   "execution_count": 597,
   "metadata": {
    "scrolled": true
   },
   "outputs": [
    {
     "data": {
      "text/plain": [
       "11"
      ]
     },
     "execution_count": 597,
     "metadata": {},
     "output_type": "execute_result"
    }
   ],
   "source": [
    "np.sum(df_test['pred_return'] < -0.0025)"
   ]
  },
  {
   "cell_type": "code",
   "execution_count": 599,
   "metadata": {
    "scrolled": true
   },
   "outputs": [
    {
     "data": {
      "text/plain": [
       "[{'Date': '2020-04-08',\n",
       "  'tick': 0,\n",
       "  'Action': 1,\n",
       "  'Price': 166.0,\n",
       "  'Equity_value': 0},\n",
       " {'Date': '2020-04-08',\n",
       "  'tick': 3260,\n",
       "  'Action': -1,\n",
       "  'Price': 169.5,\n",
       "  'Equity_value': 0.01958433734939763},\n",
       " {'Date': '2020-04-08',\n",
       "  'tick': 3266,\n",
       "  'Action': 1,\n",
       "  'Price': 170.5,\n",
       "  'Equity_value': 0},\n",
       " {'Date': '2020-04-08',\n",
       "  'tick': 4968,\n",
       "  'Action': -1,\n",
       "  'Price': 172.0,\n",
       "  'Equity_value': 0.007297653958944274},\n",
       " {'Date': '2020-04-08',\n",
       "  'tick': 4970,\n",
       "  'Action': 1,\n",
       "  'Price': 172.5,\n",
       "  'Equity_value': 0},\n",
       " {'Date': '2020-04-08',\n",
       "  'tick': 19302,\n",
       "  'Action': -1,\n",
       "  'Price': 166.0,\n",
       "  'Equity_value': -0.039181159420289824},\n",
       " {'Date': '2020-04-09',\n",
       "  'tick': 2,\n",
       "  'Action': 1,\n",
       "  'Price': 171.5,\n",
       "  'Equity_value': 0},\n",
       " {'Date': '2020-04-09',\n",
       "  'tick': 12436,\n",
       "  'Action': -1,\n",
       "  'Price': 165.5,\n",
       "  'Equity_value': -0.03648542274052474},\n",
       " {'Date': '2020-04-09',\n",
       "  'tick': 12437,\n",
       "  'Action': 1,\n",
       "  'Price': 166.0,\n",
       "  'Equity_value': 0},\n",
       " {'Date': '2020-04-09',\n",
       "  'tick': 14329,\n",
       "  'Action': -1,\n",
       "  'Price': 162.5,\n",
       "  'Equity_value': -0.022584337349397632},\n",
       " {'Date': '2020-04-10',\n",
       "  'tick': 6,\n",
       "  'Action': 1,\n",
       "  'Price': 163.5,\n",
       "  'Equity_value': 0},\n",
       " {'Date': '2020-04-10',\n",
       "  'tick': 10384,\n",
       "  'Action': -1,\n",
       "  'Price': 163.5,\n",
       "  'Equity_value': -0.0015}]"
      ]
     },
     "execution_count": 599,
     "metadata": {},
     "output_type": "execute_result"
    }
   ],
   "source": [
    "transaction_history[(0.001, -0.0025)]"
   ]
  },
  {
   "cell_type": "code",
   "execution_count": 606,
   "metadata": {},
   "outputs": [
    {
     "data": {
      "text/html": [
       "<div>\n",
       "<style scoped>\n",
       "    .dataframe tbody tr th:only-of-type {\n",
       "        vertical-align: middle;\n",
       "    }\n",
       "\n",
       "    .dataframe tbody tr th {\n",
       "        vertical-align: top;\n",
       "    }\n",
       "\n",
       "    .dataframe thead th {\n",
       "        text-align: right;\n",
       "    }\n",
       "</style>\n",
       "<table border=\"1\" class=\"dataframe\">\n",
       "  <thead>\n",
       "    <tr style=\"text-align: right;\">\n",
       "      <th></th>\n",
       "      <th>equity_value</th>\n",
       "    </tr>\n",
       "  </thead>\n",
       "  <tbody>\n",
       "    <tr>\n",
       "      <th>3260</th>\n",
       "      <td>0.019584</td>\n",
       "    </tr>\n",
       "    <tr>\n",
       "      <th>4968</th>\n",
       "      <td>0.007298</td>\n",
       "    </tr>\n",
       "    <tr>\n",
       "      <th>19302</th>\n",
       "      <td>-0.039181</td>\n",
       "    </tr>\n",
       "    <tr>\n",
       "      <th>31739</th>\n",
       "      <td>-0.036485</td>\n",
       "    </tr>\n",
       "    <tr>\n",
       "      <th>33632</th>\n",
       "      <td>-0.022584</td>\n",
       "    </tr>\n",
       "    <tr>\n",
       "      <th>44017</th>\n",
       "      <td>-0.001500</td>\n",
       "    </tr>\n",
       "  </tbody>\n",
       "</table>\n",
       "</div>"
      ],
      "text/plain": [
       "       equity_value\n",
       "3260       0.019584\n",
       "4968       0.007298\n",
       "19302     -0.039181\n",
       "31739     -0.036485\n",
       "33632     -0.022584\n",
       "44017     -0.001500"
      ]
     },
     "execution_count": 606,
     "metadata": {},
     "output_type": "execute_result"
    }
   ],
   "source": [
    "equity_value2[equity_value2['equity_value'] != 0]"
   ]
  },
  {
   "cell_type": "code",
   "execution_count": 607,
   "metadata": {},
   "outputs": [
    {
     "data": {
      "text/plain": [
       "[3260, 4968, 19302, 31739, 33632, 44017]"
      ]
     },
     "execution_count": 607,
     "metadata": {},
     "output_type": "execute_result"
    }
   ],
   "source": [
    "equity_value2.index[equity_value2['equity_value'] != 0].tolist()"
   ]
  },
  {
   "cell_type": "code",
   "execution_count": 608,
   "metadata": {},
   "outputs": [
    {
     "data": {
      "text/plain": [
       "equity_value    0.019584\n",
       "Name: 3260, dtype: float64"
      ]
     },
     "execution_count": 608,
     "metadata": {},
     "output_type": "execute_result"
    }
   ],
   "source": [
    "equity_value2.iloc[3260]"
   ]
  },
  {
   "cell_type": "code",
   "execution_count": null,
   "metadata": {},
   "outputs": [],
   "source": []
  },
  {
   "cell_type": "code",
   "execution_count": null,
   "metadata": {},
   "outputs": [],
   "source": []
  },
  {
   "cell_type": "code",
   "execution_count": null,
   "metadata": {},
   "outputs": [],
   "source": []
  }
 ],
 "metadata": {
  "kernelspec": {
   "display_name": "Python 3",
   "language": "python",
   "name": "python3"
  },
  "language_info": {
   "codemirror_mode": {
    "name": "ipython",
    "version": 3
   },
   "file_extension": ".py",
   "mimetype": "text/x-python",
   "name": "python",
   "nbconvert_exporter": "python",
   "pygments_lexer": "ipython3",
   "version": "3.7.6"
  }
 },
 "nbformat": 4,
 "nbformat_minor": 4
}
