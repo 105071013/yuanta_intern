{
 "cells": [
  {
   "cell_type": "code",
   "execution_count": 1,
   "metadata": {},
   "outputs": [],
   "source": [
    "import pandas as pd\n",
    "import numpy as np\n",
    "from datetime import datetime\n",
    "import os\n",
    "import gc"
   ]
  },
  {
   "cell_type": "markdown",
   "metadata": {},
   "source": [
    "# 一、 匯入開高低收量市值等等基本資料"
   ]
  },
  {
   "cell_type": "code",
   "execution_count": null,
   "metadata": {},
   "outputs": [],
   "source": []
  },
  {
   "cell_type": "code",
   "execution_count": 2,
   "metadata": {},
   "outputs": [],
   "source": [
    "# df_H = pd.read_excel('./Data/1.OHLC_V_CAP_Ind/2007-201909h.xlsx')\n",
    "# df_H.iloc[3,2:len(df_H.columns)] = df_H.iloc[0,2:len(df_H.columns)]\n",
    "# df_H.columns = df_H.iloc[0,:] \n",
    "# df_H = df_H.drop([0,1,2,3]).T\n",
    "# df_H=df_H.reset_index()\n",
    "# df_H.columns = df_H.iloc[0,:]\n",
    "# df_H = df_H.drop([0,1])\n",
    "# df_H_melt=pd.melt(df_H, id_vars=['基準日:最近一日'], value_vars=df_H.columns[1:len(df_H.columns)]\n",
    "#        ,var_name='Code', value_name='High')\n",
    "# df_H_melt = df_H_melt.sort_values(['Code','基準日:最近一日']).reset_index(drop=True)###"
   ]
  },
  {
   "cell_type": "code",
   "execution_count": 3,
   "metadata": {},
   "outputs": [],
   "source": [
    "# df_L = pd.read_excel('./Data/1.OHLC_V_CAP_Ind/2007-201909l.xlsx')\n",
    "# df_L.iloc[3,2:len(df_L.columns)] = df_L.iloc[0,2:len(df_L.columns)]\n",
    "# df_L.columns = df_L.iloc[0,:] \n",
    "# df_L = df_L.drop([0,1,2,3]).T\n",
    "# df_L=df_L.reset_index()\n",
    "# df_L.columns = df_L.iloc[0,:]\n",
    "# df_L = df_L.drop([0,1])\n",
    "# df_L_melt=pd.melt(df_L, id_vars=['基準日:最近一日'], value_vars=df_L.columns[1:len(df_L.columns)]\n",
    "#        ,var_name='Code', value_name='Low')\n",
    "# df_L_melt = df_L_melt.sort_values(['Code','基準日:最近一日']).reset_index(drop=True)###"
   ]
  },
  {
   "cell_type": "code",
   "execution_count": 4,
   "metadata": {},
   "outputs": [],
   "source": [
    "df_V = pd.read_excel('./Data/1.OHLC_V_CAP_Ind/2007-201909v.xlsx')\n",
    "df_V.iloc[3,2:len(df_V.columns)] = df_V.iloc[0,2:len(df_V.columns)]\n",
    "df_V.columns = df_V.iloc[0,:] \n",
    "df_V = df_V.drop([0,1,2,3]).T\n",
    "df_V=df_V.reset_index()\n",
    "df_V.columns = df_V.iloc[0,:]\n",
    "df_V = df_V.drop([0,1])\n",
    "df_V_melt=pd.melt(df_V, id_vars=['基準日:最近一日'], value_vars=df_V.columns[1:len(df_V.columns)]\n",
    "       ,var_name='Code', value_name='Volumn')\n",
    "df_V_melt = df_V_melt.sort_values(['Code','基準日:最近一日']).reset_index(drop=True)###"
   ]
  },
  {
   "cell_type": "code",
   "execution_count": 5,
   "metadata": {},
   "outputs": [],
   "source": [
    "df_C = pd.read_excel('./Data/1.OHLC_V_CAP_Ind/2007-201909c.xlsx')\n",
    "df_C.iloc[3,2:len(df_C.columns)] = df_C.iloc[0,2:len(df_C.columns)]\n",
    "df_C.columns = df_C.iloc[0,:] \n",
    "df_C = df_C.drop([0,1,2,3]).T\n",
    "df_C=df_C.reset_index()\n",
    "df_C.columns = df_C.iloc[0,:]\n",
    "df_C = df_C.drop([0,1])\n",
    "df_C_melt=pd.melt(df_C, id_vars=['基準日:最近一日'], value_vars=df_C.columns[1:len(df_C.columns)]\n",
    "       ,var_name='Code', value_name='Close')\n",
    "df_C_melt = df_C_melt.sort_values(['Code','基準日:最近一日']).reset_index(drop=True)###"
   ]
  },
  {
   "cell_type": "code",
   "execution_count": 6,
   "metadata": {},
   "outputs": [],
   "source": [
    "# df_C_R = pd.read_excel('./Data/1.OHLC_V_CAP_Ind/2007-201909c_r.xlsx')\n",
    "# df_C_R.iloc[3,2:len(df_C_R.columns)] = df_C_R.iloc[0,2:len(df_C_R.columns)]\n",
    "# df_C_R.columns = df_C_R.iloc[0,:] \n",
    "# df_C_R = df_C_R.drop([0,1,2,3]).T\n",
    "# df_C_R=df_C_R.reset_index()\n",
    "# df_C_R.columns = df_C_R.iloc[0,:]\n",
    "# df_C_R = df_C_R.drop([0,1])\n",
    "# df_C_R_melt=pd.melt(df_C_R, id_vars=['基準日:最近一日'], value_vars=df_C_R.columns[1:len(df_C_R.columns)]\n",
    "#        ,var_name='Code', value_name='Close')\n",
    "# df_C_R_melt = df_C_R_melt.sort_values(['Code','基準日:最近一日']).reset_index(drop=True)###"
   ]
  },
  {
   "cell_type": "code",
   "execution_count": 7,
   "metadata": {},
   "outputs": [],
   "source": [
    "df_CAP = pd.read_excel('./Data/1.OHLC_V_CAP_Ind/2007-201909cap.xlsx')\n",
    "df_CAP.iloc[3,2:len(df_CAP.columns)] = df_CAP.iloc[0,2:len(df_CAP.columns)]\n",
    "df_CAP.columns = df_CAP.iloc[0,:] \n",
    "df_CAP = df_CAP.drop([0,1,2,3]).T\n",
    "df_CAP=df_CAP.reset_index()\n",
    "df_CAP.columns = df_CAP.iloc[0,:]\n",
    "df_CAP = df_CAP.drop([0,1])\n",
    "df_CAP_melt=pd.melt(df_CAP, id_vars=['基準日:最近一日'], value_vars=df_CAP.columns[1:len(df_CAP.columns)]\n",
    "       ,var_name='Code', value_name='CAP')\n",
    "df_CAP_melt = df_CAP_melt.sort_values(['Code','基準日:最近一日']).reset_index(drop=True)###"
   ]
  },
  {
   "cell_type": "code",
   "execution_count": 8,
   "metadata": {},
   "outputs": [],
   "source": [
    "df_V_a = pd.read_excel('./Data/1.OHLC_V_CAP_Ind/2006-201909v_a.xlsx')\n",
    "df_V_a.iloc[3,2:len(df_V_a.columns)] = df_V_a.iloc[0,2:len(df_V_a.columns)]\n",
    "df_V_a.columns = df_V_a.iloc[0,:] \n",
    "df_V_a = df_V_a.drop([0,1,2,3]).T\n",
    "df_V_a=df_V_a.reset_index()\n",
    "df_V_a.columns = df_V_a.iloc[0,:]\n",
    "df_V_a = df_V_a.drop([0,1])\n",
    "df_V_a_melt=pd.melt(df_V_a, id_vars=['基準日:最近一日'], value_vars=df_V_a.columns[1:len(df_V_a.columns)]\n",
    "       ,var_name='Code', value_name='Volumn_a')\n",
    "df_V_a_melt = df_V_a_melt.sort_values(['Code','基準日:最近一日']).reset_index(drop=True)###\n",
    "\n",
    "df_V_a_melt['Volumn_a_mean']   = df_V_a_melt.groupby('Code')['Volumn_a'].rolling(250,min_periods=250).mean().reset_index(level=0,drop=True)\n",
    "df_V_a_melt = df_V_a_melt[df_V_a_melt['基準日:最近一日']>=df_C_melt['基準日:最近一日'][0]]\n",
    "df_V_a_melt['Volumn_a_mean']   = df_V_a_melt['Volumn_a_mean']*1000\n",
    "\n",
    "diff_Code=set(df_V_a_melt.Code.unique()) - set(df_CAP_melt.Code.unique())\n",
    "df_V_a_melt = df_V_a_melt[[ x not in diff_Code for x in df_V_a_melt['Code'] ]].reset_index(drop=True)"
   ]
  },
  {
   "cell_type": "code",
   "execution_count": 9,
   "metadata": {},
   "outputs": [],
   "source": [
    "df_merge_1 = pd.DataFrame()\n",
    "df_merge_1['Code']            = df_C_melt['Code']\n",
    "df_merge_1['Date']            = df_C_melt['基準日:最近一日']\n",
    "#df_merge_1['Open']            = df_O_melt['Open'].astype('float')\n",
    "#df_merge_1['High']            = df_H_melt['High'].astype('float')\n",
    "#df_merge_1['Low']             = df_L_melt['Low'].astype('float')\n",
    "df_merge_1['Close']           = df_C_melt['Close'].astype('float')\n",
    "#df_merge_1['Close_r']         = df_C_R_melt['Close'].astype('float')\n",
    "df_merge_1['Volumn']          = df_V_melt['Volumn'].astype('float')\n",
    "df_merge_1['Volumn_a_mean']        = df_V_a_melt['Volumn_a_mean'].astype('float')\n",
    "df_merge_1['CAP']             = df_CAP_melt['CAP'].astype('float')"
   ]
  },
  {
   "cell_type": "code",
   "execution_count": 10,
   "metadata": {},
   "outputs": [],
   "source": [
    "del df_C_melt,df_V_melt,df_V_a_melt,df_CAP_melt"
   ]
  },
  {
   "cell_type": "markdown",
   "metadata": {},
   "source": [
    "# 匯入產業數據"
   ]
  },
  {
   "cell_type": "code",
   "execution_count": 11,
   "metadata": {},
   "outputs": [],
   "source": [
    "df_Ind_list = pd.read_excel('./Data/1.OHLC_V_CAP_Ind/2007-201909ind.xlsx',sheet_name='list')\n",
    "df_Ind_list.iloc[3,2:len(df_Ind_list.columns)] = df_Ind_list.iloc[0,2:len(df_Ind_list.columns)]\n",
    "df_Ind_list.columns = df_Ind_list.iloc[0,:] \n",
    "df_Ind_list = df_Ind_list.drop([0,1,2,3]).T\n",
    "df_Ind_list=df_Ind_list.reset_index()\n",
    "df_Ind_list.columns = df_Ind_list.iloc[0,:]\n",
    "df_Ind_list = df_Ind_list.drop([0,1])\n",
    "df_Ind_list['基準日:最近一日'] = np.arange(2009,2020)\n",
    "df_Ind_list_melt=pd.melt(df_Ind_list, id_vars=['基準日:最近一日'], value_vars=df_Ind_list.columns[1:len(df_Ind_list.columns)]\n",
    "       ,var_name='Code', value_name='Ind')\n",
    "df_Ind_list_melt = df_Ind_list_melt.sort_values(['Code','基準日:最近一日']).reset_index(drop=True)###\n",
    "df_Ind_list_melt['Ind'] =df_Ind_list_melt.groupby('Code')['Ind'].fillna(method='ffill')\n",
    "\n",
    "df_Ind_delist = pd.read_excel('./Data/1.OHLC_V_CAP_Ind/2007-201909ind.xlsx',sheet_name='delist')\n",
    "df_Ind_delist = df_Ind_delist.drop([0,1,2,3])\n",
    "df_Ind_delist.columns = ['Code','Name','Ind']\n",
    "df_Ind_delist['基準日:最近一日'] = '2019'\n",
    "df_Ind_delist = df_Ind_delist[df_Ind_list_melt.columns]\n",
    "\n",
    "df_Ind_melt=pd.concat([df_Ind_list_melt,df_Ind_delist]).reset_index(drop=True)\n",
    "df_Ind_melt.columns = ['Year','Code','Ind']\n"
   ]
  },
  {
   "cell_type": "code",
   "execution_count": 12,
   "metadata": {},
   "outputs": [],
   "source": [
    "#合併Ind\n",
    "df_merge_1['Year'] = [ str(x)[0:4] for x in df_merge_1['Date'] ]\n",
    "df_Ind_melt.Year       =  df_Ind_melt.Year.astype('str')\n",
    "df_Ind_melt = df_Ind_melt.drop_duplicates(subset=['Year','Code'])\n",
    "df_merge_1           =  pd.merge(left=df_merge_1,right=df_Ind_melt,on=['Year','Code'],how='left')  \n",
    "df_merge_1['Ind'] = df_merge_1.groupby('Code')['Ind'].fillna(method='bfill').fillna(method='ffill')"
   ]
  },
  {
   "cell_type": "code",
   "execution_count": 13,
   "metadata": {},
   "outputs": [],
   "source": [
    "# 匯入RM\n",
    "df_RM=pd.read_excel('Data/3.Rm_Rf/2007-201909Rm.xlsx')\n",
    "df_RM.columns = df_RM.iloc[3,]\n",
    "df_RM=df_RM.drop([0,1,2,3])\n",
    "df_RM=df_RM.dropna(axis=1).reset_index(drop=True)\n",
    "df_RM.columns = ['Date','大盤指數']\n",
    "df_RM['Date'] = [datetime.strftime(x,format='%Y%m%d') for x in df_RM['Date'] ]\n",
    "df_RM=df_RM.sort_values('Date').drop_duplicates()\n",
    "df_RM['Rm'] = df_RM['大盤指數'].pct_change() \n",
    "df_merge_1.Date = df_merge_1.Date.astype('str')\n",
    "df_merge_1_1           =  pd.merge(left=df_merge_1,right=df_RM,on=['Date'],how='left')"
   ]
  },
  {
   "cell_type": "code",
   "execution_count": 14,
   "metadata": {},
   "outputs": [],
   "source": [
    "if not os.path.exists('./Data/output/'):\n",
    "    os.makedirs('./Data/output/')\n",
    "df_merge_1_1.to_csv('./Data/output/df_merge_1.txt',index=False)\n",
    "#del df_merge_1 \n",
    "#gc.collect()"
   ]
  },
  {
   "cell_type": "code",
   "execution_count": 15,
   "metadata": {},
   "outputs": [
    {
     "data": {
      "text/plain": [
       "Code             6727276\n",
       "Date             6727276\n",
       "Close            4593760\n",
       "Volumn           4590379\n",
       "Volumn_a_mean    4242522\n",
       "CAP              4590628\n",
       "Year             6727276\n",
       "Ind              6727276\n",
       "大盤指數             6727276\n",
       "Rm               6727276\n",
       "dtype: int64"
      ]
     },
     "execution_count": 15,
     "metadata": {},
     "output_type": "execute_result"
    }
   ],
   "source": [
    "df_merge_1_1.count()"
   ]
  },
  {
   "cell_type": "markdown",
   "metadata": {},
   "source": [
    "# 二、 匯入財務指標等CMoney現有資料"
   ]
  },
  {
   "cell_type": "code",
   "execution_count": 16,
   "metadata": {},
   "outputs": [],
   "source": [
    "df_PE = pd.read_excel('./Data/2.Cmoney_factor/2007-201909pe.xlsx')\n",
    "df_PE.iloc[3,2:len(df_PE.columns)] = df_PE.iloc[0,2:len(df_PE.columns)]\n",
    "df_PE.columns = df_PE.iloc[0,:] \n",
    "df_PE = df_PE.drop([0,1,2,3]).T\n",
    "df_PE=df_PE.reset_index()\n",
    "df_PE.columns = df_PE.iloc[0,:]\n",
    "df_PE = df_PE.drop([0,1])\n",
    "df_PE_melt=pd.melt(df_PE, id_vars=['基準日:最近一日'], value_vars=df_PE.columns[1:len(df_PE.columns)]\n",
    "       ,var_name='Code', value_name='PE')\n",
    "df_PE_melt = df_PE_melt.sort_values(['Code','基準日:最近一日']).reset_index(drop=True)###\n",
    "del df_PE"
   ]
  },
  {
   "cell_type": "code",
   "execution_count": 17,
   "metadata": {},
   "outputs": [],
   "source": [
    "df_PB = pd.read_excel('./Data/2.Cmoney_factor/2007-201909pb.xlsx')\n",
    "df_PB.iloc[3,2:len(df_PB.columns)] = df_PB.iloc[0,2:len(df_PB.columns)]\n",
    "df_PB.columns = df_PB.iloc[0,:] \n",
    "df_PB = df_PB.drop([0,1,2,3]).T\n",
    "df_PB=df_PB.reset_index()\n",
    "df_PB.columns = df_PB.iloc[0,:]\n",
    "df_PB = df_PB.drop([0,1])\n",
    "df_PB_melt=pd.melt(df_PB, id_vars=['基準日:最近一日'], value_vars=df_PB.columns[1:len(df_PB.columns)]\n",
    "       ,var_name='Code', value_name='PB')\n",
    "df_PB_melt = df_PB_melt.sort_values(['Code','基準日:最近一日']).reset_index(drop=True)###\n",
    "del df_PB"
   ]
  },
  {
   "cell_type": "code",
   "execution_count": 18,
   "metadata": {},
   "outputs": [],
   "source": [
    "df_for = pd.read_excel('./Data/2.Cmoney_factor/2007-201909for.xlsx')\n",
    "df_for.iloc[3,2:len(df_for.columns)] = df_for.iloc[0,2:len(df_for.columns)]\n",
    "df_for.columns = df_for.iloc[0,:] \n",
    "df_for = df_for.drop([0,1,2,3]).T\n",
    "df_for=df_for.reset_index()\n",
    "df_for.columns = df_for.iloc[0,:]\n",
    "df_for = df_for.drop([0,1])\n",
    "df_for_melt=pd.melt(df_for, id_vars=['基準日:最近一日'], value_vars=df_for.columns[1:len(df_for.columns)]\n",
    "       ,var_name='Code', value_name='For')\n",
    "df_for_melt = df_for_melt.sort_values(['Code','基準日:最近一日']).reset_index(drop=True)###\n",
    "\n",
    "diff_Code=set(df_for_melt.Code.unique()) - set(df_PE_melt.Code.unique())\n",
    "df_for_melt = df_for_melt[[ x not in diff_Code for x in df_for_melt['Code'] ]].reset_index(drop=True)\n",
    "\n",
    "df_for_melt['For_less1'] = df_for_melt.groupby('Code')['For'].shift(1).reset_index(level=0,drop=True) \n",
    "df_for_melt['For_%']     = [ x/y-1 if y>0 else -(x/y-1) if y <0 else np.NaN for x,y in zip(df_for_melt['For'],df_for_melt['For_less1']) ]\n",
    "del df_for"
   ]
  },
  {
   "cell_type": "code",
   "execution_count": 19,
   "metadata": {},
   "outputs": [],
   "source": [
    "df_rgz = pd.read_excel('./Data/2.Cmoney_factor/2007-201909rgz.xlsx')\n",
    "df_rgz.iloc[3,2:len(df_rgz.columns)] = df_rgz.iloc[0,2:len(df_rgz.columns)]\n",
    "df_rgz.columns = df_rgz.iloc[0,:] \n",
    "df_rgz = df_rgz.drop([0,1,2,3]).T\n",
    "df_rgz=df_rgz.reset_index()\n",
    "df_rgz.columns = df_rgz.iloc[0,:]\n",
    "df_rgz = df_rgz.drop([0,1])\n",
    "df_rgz_melt=pd.melt(df_rgz, id_vars=['基準日:最近一日'], value_vars=df_rgz.columns[1:len(df_rgz.columns)]\n",
    "       ,var_name='Code', value_name='Rgz')\n",
    "df_rgz_melt = df_rgz_melt.sort_values(['Code','基準日:最近一日']).reset_index(drop=True)###\n",
    "\n",
    "diff_Code=set(df_rgz_melt.Code.unique()) - set(df_PE_melt.Code.unique())\n",
    "df_rgz_melt = df_rgz_melt[[ x not in diff_Code for x in df_rgz_melt['Code'] ]].reset_index(drop=True)\n",
    "\n",
    "df_rgz_melt['Rgz'] = df_rgz_melt['Rgz']/100\n",
    "df_rgz_melt['Rgz_less1'] = df_rgz_melt.groupby('Code')['Rgz'].shift(1).reset_index(level=0,drop=True) \n",
    "df_rgz_melt['Rgz_%']     = [ x/y-1 if y>0 else -(x/y-1) if y <0 else np.NaN for x,y in zip(df_rgz_melt['Rgz'],df_rgz_melt['Rgz_less1']) ]\n",
    "del df_rgz"
   ]
  },
  {
   "cell_type": "code",
   "execution_count": 20,
   "metadata": {},
   "outputs": [],
   "source": [
    "df_for_N = pd.read_excel('./Data/2.Cmoney_factor/2007-201909for_N.xlsx')\n",
    "df_for_N.iloc[3,2:len(df_for_N.columns)] = df_for_N.iloc[0,2:len(df_for_N.columns)]\n",
    "df_for_N.columns = df_for_N.iloc[0,:] \n",
    "df_for_N = df_for_N.drop([0,1,2,3]).T\n",
    "df_for_N=df_for_N.reset_index()\n",
    "df_for_N.columns = df_for_N.iloc[0,:]\n",
    "df_for_N = df_for_N.drop([0,1])\n",
    "df_for_N_melt=pd.melt(df_for_N, id_vars=['基準日:最近一日'], \n",
    "                      value_vars=df_for_N.columns[1:len(df_for_N.columns)]\n",
    "                     ,var_name='Code', value_name='for_N')\n",
    "df_for_N_melt = df_for_N_melt.sort_values(['Code','基準日:最近一日']).reset_index(drop=True)###\n",
    "\n",
    "diff_Code=set(df_for_N_melt.Code.unique()) - set(df_PE_melt.Code.unique())\n",
    "df_for_N_melt = df_for_N_melt[[ x not in diff_Code for x in df_for_N_melt['Code'] ]].reset_index(drop=True)\n",
    "del df_for_N"
   ]
  },
  {
   "cell_type": "code",
   "execution_count": 21,
   "metadata": {},
   "outputs": [],
   "source": [
    "df_invest_N = pd.read_excel('./Data/2.Cmoney_factor/2007-201909invest_N.xlsx')\n",
    "df_invest_N.iloc[3,2:len(df_invest_N.columns)] = df_invest_N.iloc[0,2:len(df_invest_N.columns)]\n",
    "df_invest_N.columns = df_invest_N.iloc[0,:] \n",
    "df_invest_N = df_invest_N.drop([0,1,2,3]).T\n",
    "df_invest_N=df_invest_N.reset_index()\n",
    "df_invest_N.columns = df_invest_N.iloc[0,:]\n",
    "df_invest_N = df_invest_N.drop([0,1])\n",
    "df_invest_N_melt=pd.melt(df_invest_N, id_vars=['基準日:最近一日'], value_vars=df_invest_N.columns[1:len(df_invest_N.columns)]\n",
    "       ,var_name='Code', value_name='invest_N')\n",
    "df_invest_N_melt = df_invest_N_melt.sort_values(['Code','基準日:最近一日']).reset_index(drop=True)###\n",
    "\n",
    "diff_Code=set(df_invest_N_melt.Code.unique()) - set(df_PE_melt.Code.unique())\n",
    "df_invest_N_melt = df_invest_N_melt[[ x not in diff_Code for x in df_invest_N_melt['Code'] ]].reset_index(drop=True)\n",
    "del df_invest_N"
   ]
  },
  {
   "cell_type": "code",
   "execution_count": 22,
   "metadata": {},
   "outputs": [],
   "source": [
    "df_main_N = pd.read_excel('./Data/2.Cmoney_factor/2007-201909main_N.xlsx')\n",
    "df_main_N.iloc[3,2:len(df_main_N.columns)] = df_main_N.iloc[0,2:len(df_main_N.columns)]\n",
    "df_main_N.columns = df_main_N.iloc[0,:] \n",
    "df_main_N = df_main_N.drop([0,1,2,3]).T\n",
    "df_main_N=df_main_N.reset_index()\n",
    "df_main_N.columns = df_main_N.iloc[0,:]\n",
    "df_main_N = df_main_N.drop([0,1])\n",
    "df_main_N_melt=pd.melt(df_main_N, id_vars=['基準日:最近一日'], value_vars=df_main_N.columns[1:len(df_main_N.columns)]\n",
    "       ,var_name='Code', value_name='main_N')\n",
    "df_main_N_melt = df_main_N_melt.sort_values(['Code','基準日:最近一日']).reset_index(drop=True)###\n",
    "\n",
    "diff_Code=set(df_main_N_melt.Code.unique()) - set(df_PE_melt.Code.unique())\n",
    "df_main_N_melt = df_main_N_melt[[ x not in diff_Code for x in df_main_N_melt['Code'] ]].reset_index(drop=True)\n",
    "del df_main_N "
   ]
  },
  {
   "cell_type": "code",
   "execution_count": 23,
   "metadata": {},
   "outputs": [],
   "source": [
    "df_sharecapital = pd.read_excel('./Data/2.Cmoney_factor/2007-201909sharecapital.xlsx')\n",
    "df_sharecapital.iloc[3,2:len(df_sharecapital.columns)] = df_sharecapital.iloc[0,2:len(df_sharecapital.columns)]\n",
    "df_sharecapital.columns = df_sharecapital.iloc[0,:] \n",
    "df_sharecapital = df_sharecapital.drop([0,1,2,3]).T\n",
    "df_sharecapital=df_sharecapital.reset_index()\n",
    "df_sharecapital.columns = df_sharecapital.iloc[0,:]\n",
    "df_sharecapital = df_sharecapital.drop([0,1])\n",
    "df_sharecapital_melt=pd.melt(df_sharecapital, id_vars=['基準日:最近一日'], value_vars=df_sharecapital.columns[1:len(df_sharecapital.columns)]\n",
    "       ,var_name='Code', value_name='sharecapital')\n",
    "df_sharecapital_melt = df_sharecapital_melt.sort_values(['Code','基準日:最近一日']).reset_index(drop=True)###\n",
    "\n",
    "diff_Code=set(df_sharecapital_melt.Code.unique()) - set(df_PE_melt.Code.unique())\n",
    "df_sharecapital_melt = df_sharecapital_melt[[ x not in diff_Code for x in df_sharecapital_melt['Code'] ]].reset_index(drop=True)\n",
    "del df_sharecapital "
   ]
  },
  {
   "cell_type": "code",
   "execution_count": 24,
   "metadata": {},
   "outputs": [],
   "source": [
    "df_merge_2 = pd.DataFrame()\n",
    "df_merge_2['Code'] = df_PE_melt['Code']\n",
    "df_merge_2['Date'] = df_PE_melt['基準日:最近一日']\n",
    "df_merge_2['PE'] = df_PE_melt['PE']\n",
    "df_merge_2['PB'] = df_PB_melt['PB']\n",
    "df_merge_2['For'] = df_for_melt['For']\n",
    "df_merge_2['For_%'] = df_for_melt['For_%']\n",
    "df_merge_2['Rgz'] = df_rgz_melt['Rgz']\n",
    "df_merge_2['Rgz_%'] = df_rgz_melt['Rgz_%']\n",
    "df_merge_2['for_N'] = df_for_N_melt['for_N']\n",
    "df_merge_2['invest_N'] = df_invest_N_melt['invest_N']\n",
    "df_merge_2['main_N'] = df_main_N_melt['main_N']\n",
    "df_merge_2['sharecapital'] = df_sharecapital_melt['sharecapital']"
   ]
  },
  {
   "cell_type": "code",
   "execution_count": 25,
   "metadata": {},
   "outputs": [],
   "source": [
    "df_merge_2.to_csv('./Data/output/df_merge_2.txt',index=False)"
   ]
  },
  {
   "cell_type": "code",
   "execution_count": 26,
   "metadata": {},
   "outputs": [
    {
     "data": {
      "text/plain": [
       "4437"
      ]
     },
     "execution_count": 26,
     "metadata": {},
     "output_type": "execute_result"
    }
   ],
   "source": [
    "#del df_PE_melt,df_PB_melt,df_for_melt,df_rgz_melt,\n",
    "del df_for_N_melt,df_invest_N_melt,df_main_N_melt\n",
    "import gc\n",
    "gc.collect()"
   ]
  },
  {
   "cell_type": "markdown",
   "metadata": {},
   "source": [
    "# 三、其他資料 sales vwap div"
   ]
  },
  {
   "cell_type": "code",
   "execution_count": 27,
   "metadata": {},
   "outputs": [],
   "source": [
    "df_merge_1 = pd.read_csv('./Data/output/df_merge_1.txt',engine='c')"
   ]
  },
  {
   "cell_type": "code",
   "execution_count": 28,
   "metadata": {},
   "outputs": [],
   "source": [
    "df_vwap=pd.read_excel('Data/4.Other/2007-2019vwap1.xlsx')\n",
    "df_vwap=df_vwap.reset_index()\n",
    "df_vwap.columns = df_vwap.iloc[2,:]\n",
    "df_vwap =  df_vwap.iloc[6:,6:]\n",
    "df_vwap.columns = ['Date']+list(df_vwap.columns[1:] )\n",
    "df_vwap_melt=pd.melt(df_vwap, id_vars=['Date'], value_vars=df_vwap.columns[1:len(df_vwap.columns)]\n",
    "       ,var_name='Code', value_name='VWAP')\n",
    "\n",
    "df_vwap_melt['Date'] = [datetime.strftime(x,'%Y%m%d') for x in df_vwap_melt['Date'] ]\n",
    "df_vwap_melt['Code'] = df_vwap_melt['Code'].str.split(\" \",expand=True)[0]\n",
    "\n",
    "df_merge_1[['Date','Code']] = df_merge_1[['Date','Code']].astype('str')\n",
    "df_merge_vwap=pd.merge(left=df_merge_1[['Date','Code','Close']],right=df_vwap_melt,on=['Date','Code'],how='left')\n",
    "df_merge_vwap['Over_Vwap']= df_merge_vwap['Close']/df_merge_vwap['VWAP'] - 1\n",
    "df_merge_vwap=df_merge_vwap.sort_values(['Code','Date']).reset_index(drop=True)"
   ]
  },
  {
   "cell_type": "code",
   "execution_count": 29,
   "metadata": {},
   "outputs": [],
   "source": [
    "df_Sales=pd.read_excel('Data/4.Other/2007-201909sales.xlsx')\n",
    "df_Sales.iloc[3,2:len(df_Sales.columns)] = df_Sales.iloc[0,2:len(df_Sales.columns)]\n",
    "df_Sales.columns = df_Sales.iloc[0,:] \n",
    "df_Sales = df_Sales.drop([0,1,2,3]).T\n",
    "df_Sales=df_Sales.reset_index()\n",
    "df_Sales.columns = df_Sales.iloc[0,:]\n",
    "df_Sales = df_Sales.drop([0,1])\n",
    "df_Sales_melt=pd.melt(df_Sales, id_vars=['基準日:最近一日'], value_vars=df_Sales.columns[1:len(df_Sales.columns)]\n",
    "       ,var_name='Code', value_name='Sales_M')\n",
    "df_Sales_melt = df_Sales_melt.sort_values(['Code','基準日:最近一日']).reset_index(drop=True)###\n",
    "df_Sales_melt.columns = ['Key','Code','Sales_M']\n",
    "df_Sales_melt['Sales_M'] = df_Sales_melt['Sales_M'].astype('float')\n",
    "df_Sales_melt['Sales_M']  = df_Sales_melt['Sales_M']*1000\n",
    "\n",
    "def make_month_key(Date):\n",
    "    year= Date[0:4]\n",
    "    month=Date[4:6]\n",
    "    day  =Date[6:8]\n",
    "    if int(month) ==1:\n",
    "        if int(day) <=10:\n",
    "            return str(int(year)-1)+'11'\n",
    "        else:\n",
    "            return str(int(year)-1)+'12'\n",
    "    if int(month) ==2:\n",
    "        if int(day) <=10:\n",
    "            return str(int(year)-1)+'12'\n",
    "        else:\n",
    "            return str(int(year))+'01'\n",
    "    else:\n",
    "        if int(day) <=10:\n",
    "            if len(str(int(month)-2)) :\n",
    "                return year+'0'+str(int(month)-2)\n",
    "            else:\n",
    "                return year+str(int(month)-2)\n",
    "            \n",
    "        else:\n",
    "            if len(str(int(month)-1)) :\n",
    "                return year+'0'+str(int(month)-1)\n",
    "            else:\n",
    "                return year+str(int(month)-1)     \n",
    "            \n",
    "df_merge_1['Key'] = [  make_month_key(x) for x in df_merge_1['Date'] ] \n",
    "df_Sales_melt.Key = df_Sales_melt.Key.astype('str')\n",
    "df_merge_sales = pd.merge(left=df_merge_1[['Date','Key','Code','CAP']],right=df_Sales_melt,on=['Key','Code'],how='left') \n",
    "\n",
    "df_merge_sales['PS'] = np.where(np.array(df_merge_sales['Sales_M'])==0,\n",
    "                                np.NaN, np.array(df_merge_sales['CAP']*100000000/df_merge_sales['Sales_M']))\n",
    "df_merge_sales = df_merge_sales[['Date','Code','PS']]\n",
    "df_merge_sales = df_merge_sales.sort_values(['Code','Date']).reset_index(drop=True)"
   ]
  },
  {
   "cell_type": "code",
   "execution_count": 30,
   "metadata": {},
   "outputs": [],
   "source": [
    "df_Div=pd.read_excel('Data/4.Other/2000-2019div_Y.xlsx')\n",
    "df_Div.iloc[3,2:len(df_Div.columns)] = df_Div.iloc[0,2:len(df_Div.columns)]\n",
    "df_Div.columns = df_Div.iloc[0,:] \n",
    "df_Div = df_Div.drop([0,1,2,3]).T\n",
    "df_Div=df_Div.reset_index()\n",
    "df_Div.columns = df_Div.iloc[0,:]\n",
    "df_Div = df_Div.drop([0,1])\n",
    "df_Div_melt=pd.melt(df_Div, id_vars=['基準日:最近一日'], value_vars=df_Div.columns[1:len(df_Div.columns)]\n",
    "       ,var_name='Code', value_name='Div_Y')\n",
    "df_Div_melt = df_Div_melt.sort_values(['Code','基準日:最近一日']).reset_index(drop=True)###\n",
    "df_Div_melt.columns = ['Key','Code','Div_Y']\n",
    "df_Div_melt['Div_Y'] = df_Div_melt['Div_Y'].astype('float')\n",
    "\n",
    "def make_year_key(Date):\n",
    "    Date = str(Date)\n",
    "    year= Date[0:4]\n",
    "    month=Date[4:6]\n",
    "    day  =Date[6:8]\n",
    "    if int(month) <=3:\n",
    "        return str(int(year)-2)\n",
    "    else:\n",
    "        return str(int(year)-1)\n",
    "    \n",
    "df_merge_1['Key'] = [  make_year_key(x) for x in df_merge_1['Date'] ] \n",
    "df_Div_melt.Key = df_Div_melt.Key.astype('str')\n",
    "df_Div_melt.Code = df_Div_melt.Code.astype('str')\n",
    "df_merge_1.Code  = df_merge_1.Code.astype('str')\n",
    "df_merge_div = pd.merge(left=df_merge_1,right=df_Div_melt,on=['Key','Code'],how='left')  \n",
    "df_merge_div['DP'] = df_merge_div['Div_Y']/df_merge_div['Close']\n",
    "df_merge_div = df_merge_div[['Date','Code','DP']]\n",
    "df_merge_div = df_merge_div.sort_values(['Code','Date']).reset_index(drop=True)"
   ]
  },
  {
   "cell_type": "code",
   "execution_count": 31,
   "metadata": {},
   "outputs": [],
   "source": [
    "df_merge_3 = pd.DataFrame()\n",
    "df_merge_3[['Date','Code']] = df_merge_vwap[['Date','Code']]\n",
    "df_merge_3['Over_Vwap']     = df_merge_vwap['Over_Vwap'] \n",
    "df_merge_3['PS']            = df_merge_sales['PS'] \n",
    "df_merge_3['DP']            = df_merge_div['DP']\n",
    "df_merge_3.to_csv('./Data/output/df_merge_3.txt',index=False)"
   ]
  },
  {
   "cell_type": "code",
   "execution_count": 32,
   "metadata": {},
   "outputs": [
    {
     "data": {
      "text/plain": [
       "Date         6727276\n",
       "Code         6727276\n",
       "Over_Vwap    4301855\n",
       "PS           2877020\n",
       "DP           4555514\n",
       "dtype: int64"
      ]
     },
     "execution_count": 32,
     "metadata": {},
     "output_type": "execute_result"
    }
   ],
   "source": [
    "df_merge_3.count()"
   ]
  },
  {
   "cell_type": "code",
   "execution_count": null,
   "metadata": {},
   "outputs": [],
   "source": []
  },
  {
   "cell_type": "code",
   "execution_count": null,
   "metadata": {},
   "outputs": [],
   "source": []
  },
  {
   "cell_type": "code",
   "execution_count": null,
   "metadata": {},
   "outputs": [],
   "source": []
  }
 ],
 "metadata": {
  "kernelspec": {
   "display_name": "Python 3",
   "language": "python",
   "name": "python3"
  },
  "language_info": {
   "codemirror_mode": {
    "name": "ipython",
    "version": 3
   },
   "file_extension": ".py",
   "mimetype": "text/x-python",
   "name": "python",
   "nbconvert_exporter": "python",
   "pygments_lexer": "ipython3",
   "version": "3.7.1"
  }
 },
 "nbformat": 4,
 "nbformat_minor": 2
}
